{
 "cells": [
  {
   "cell_type": "markdown",
   "id": "cfbae5b0-34b8-47bc-b335-caeabcd58709",
   "metadata": {},
   "source": [
    "******OPEN DATAFRAME WITH POLARS******"
   ]
  },
  {
   "cell_type": "code",
   "execution_count": 1,
   "id": "ccaa42e6-173c-4e8c-880e-bab754df4b2f",
   "metadata": {
    "tags": []
   },
   "outputs": [],
   "source": [
    "#Parallelism\n",
    "import polars as pl\n",
    "\n",
    "#Import modules\n",
    "import matplotlib.pyplot as plt\n",
    "%matplotlib inline\n",
    "\n",
    "#handling data\n",
    "import pandas as pd\n",
    "import numpy as np\n",
    "import json\n",
    "import networkx as nx\n",
    "from datetime import datetime\n",
    "\n",
    "import random\n",
    "\n",
    "#Import libraries for sentiment classification\n",
    "import pyarrow\n",
    "from datasets import Dataset\n",
    "from transformers import pipeline\n",
    "from tqdm.auto import tqdm"
   ]
  },
  {
   "cell_type": "code",
   "execution_count": 2,
   "id": "95d3cf10-3f8f-4002-8545-635d81d1a7b5",
   "metadata": {
    "tags": []
   },
   "outputs": [
    {
     "name": "stdout",
     "output_type": "stream",
     "text": [
      "la lunghezza del dataframe di submissions iniziale è 5465910\n",
      "la lunghezza del dataframe di comments iniziale è 53851542\n"
     ]
    }
   ],
   "source": [
    "#load data\n",
    "data_sub=pl.read_ndjson(r'C:\\Tempor\\reddit\\submissions\\RS_2015-01')\n",
    "data_com=pl.read_ndjson(r'C:\\Tempor\\reddit\\comments\\RC_2015-01')\n",
    "\n",
    "# #show first rows\n",
    "# data_sub.head()\n",
    "\n",
    "# #show columns\n",
    "# data_sub.columns\n",
    "\n",
    "#select columns\n",
    "df_sub=data_sub.select([\"id\",\"author\",\"title\",\"selftext\",\"name\",\"score\",\"num_comments\",\"subreddit\",\"subreddit_id\",\"from\",\"from_id\",\"created_utc\"])\n",
    "df_com=data_com.select([\"id\",\"author\",\"body\",\"name\",\"parent_id\",\"link_id\",\"subreddit\",\"subreddit_id\",\"created_utc\"])\n",
    "\n",
    "# #expression to call columns\n",
    "# df_pl['selftext']\n",
    "\n",
    "#Dataframe length\n",
    "print('la lunghezza del dataframe di submissions iniziale è ' + str(len(df_sub)))\n",
    "print('la lunghezza del dataframe di comments iniziale è ' + str(len(df_com)))"
   ]
  },
  {
   "cell_type": "markdown",
   "id": "4c10c8a2-4a51-42c8-9e74-c5a4a9529499",
   "metadata": {},
   "source": [
    "******SUBREDDIT FILTER******"
   ]
  },
  {
   "cell_type": "code",
   "execution_count": 3,
   "id": "e55e5a0c-8e2c-4ec1-a92a-e4f27b91f3ad",
   "metadata": {
    "tags": []
   },
   "outputs": [],
   "source": [
    "df_sub_wsb=df_sub.filter((df_sub['subreddit']==\"wallstreetbets\")|(df_sub['subreddit']==\"finance\")|\n",
    "                         (df_sub['subreddit']==\"investing\")|(df_sub['subreddit']==\"Frugal\")|\n",
    "                         (df_sub['subreddit']==\"SecurityAnalysis\")|(df_sub['subreddit']==\"RobinHood\")|\n",
    "                         (df_sub['subreddit']==\"InvestmentClub\")|(df_sub['subreddit']==\"Forex\")|\n",
    "                         (df_sub['subreddit']==\"options\")|(df_sub['subreddit']==\"CryptoCurrency\")|\n",
    "                         (df_sub['subreddit']==\"StockMarket\")|(df_sub['subreddit']==\"economy\")|\n",
    "                         (df_sub['subreddit']==\"Economics\")|(df_sub['subreddit']==\"GlobalMarkets\")|\n",
    "                         (df_sub['subreddit']==\"dividends\")|(df_sub['subreddit']==\"Daytrading\")|\n",
    "                         (df_sub['subreddit']==\"algotrading\")|(df_sub['subreddit']==\"pennystocks\")|\n",
    "                         (df_sub['subreddit']==\"ValueInvesting\")|(df_sub['subreddit']==\"Bogleheads\")|\n",
    "                         (df_sub['subreddit']==\"RobinHoodPennyStocks\")|(df_sub['subreddit']==\"RealDayTrading\")|\n",
    "                         (df_sub['subreddit']==\"investingforbeginners\")|(df_sub['subreddit']==\"business\")|\n",
    "                         (df_sub['subreddit']==\"Flipping\")|(df_sub['subreddit']==\"Entrepreneur\")|\n",
    "                         (df_sub['subreddit']==\"wallstreet\")|(df_sub['subreddit']==\"wallstreetdd\")|\n",
    "                         (df_sub['subreddit']==\"MiddleClassFinance\")|(df_sub['subreddit']==\"beermoney\")|\n",
    "                         (df_sub['subreddit']==\"DropShipping101\")|(df_sub['subreddit']==\"smallbusiness\")|\n",
    "                         (df_sub['subreddit']==\"churning\")|(df_sub['subreddit']==\"giftcardexchange\")|\n",
    "                         (df_sub['subreddit']==\"personalfinance\")|(df_sub['subreddit']==\"FinancialPlanning\")|\n",
    "                         (df_sub['subreddit']==\"CRedit\")|(df_sub['subreddit']==\"povertyfinance\")|\n",
    "                         (df_sub['subreddit']==\"financialindipendence\")|(df_sub['subreddit']==\"leanfire\")|\n",
    "                         (df_sub['subreddit']==\"flatFIRE\")|(df_sub['subreddit']==\"StudentLoans\"))\n",
    "                         \n",
    "\n",
    "df_com_wsb=df_com.filter((df_com['subreddit']==\"wallstreetbets\")|(df_com['subreddit']==\"finance\")|\n",
    "                         (df_com['subreddit']==\"investing\")|(df_com['subreddit']==\"Frugal\")|\n",
    "                         (df_com['subreddit']==\"SecurityAnalysis\")|(df_com['subreddit']==\"RobinHood\")|\n",
    "                         (df_com['subreddit']==\"InvestmentClub\")|(df_com['subreddit']==\"Forex\")|\n",
    "                         (df_com['subreddit']==\"options\")|(df_com['subreddit']==\"CryptoCurrency\")|\n",
    "                         (df_com['subreddit']==\"StockMarket\")|(df_com['subreddit']==\"economy\")|\n",
    "                         (df_com['subreddit']==\"Economics\")|(df_com['subreddit']==\"GlobalMarkets\")|\n",
    "                         (df_com['subreddit']==\"dividends\")|(df_com['subreddit']==\"Daytrading\")|\n",
    "                         (df_com['subreddit']==\"algotrading\")|(df_com['subreddit']==\"pennystocks\")|\n",
    "                         (df_com['subreddit']==\"ValueInvesting\")|(df_com['subreddit']==\"Bogleheads\")|\n",
    "                         (df_com['subreddit']==\"RobinHoodPennyStocks\")|(df_com['subreddit']==\"RealDayTrading\")|\n",
    "                         (df_com['subreddit']==\"investingforbeginners\")|(df_com['subreddit']==\"business\")|\n",
    "                         (df_com['subreddit']==\"Flipping\")|(df_com['subreddit']==\"Entrepreneur\")|\n",
    "                         (df_com['subreddit']==\"wallstreet\")|(df_com['subreddit']==\"wallstreetdd\")|\n",
    "                         (df_com['subreddit']==\"MiddleClassFinance\")|(df_com['subreddit']==\"beermoney\")|\n",
    "                         (df_com['subreddit']==\"DropShipping101\")|(df_com['subreddit']==\"smallbusiness\")|\n",
    "                         (df_com['subreddit']==\"churning\")|(df_com['subreddit']==\"giftcardexchange\")|\n",
    "                         (df_com['subreddit']==\"personalfinance\")|(df_com['subreddit']==\"FinancialPlanning\")|\n",
    "                         (df_com['subreddit']==\"CRedit\")|(df_com['subreddit']==\"povertyfinance\")|\n",
    "                         (df_com['subreddit']==\"financialindipendence\")|(df_com['subreddit']==\"leanfire\")|\n",
    "                         (df_com['subreddit']==\"flatFIRE\")|(df_com['subreddit']==\"StudentLoans\"))"
   ]
  },
  {
   "cell_type": "code",
   "execution_count": null,
   "id": "d99a72b0-16b4-4633-9fc9-35dbc859ef9b",
   "metadata": {},
   "outputs": [],
   "source": [
    "print('length of filtered submissions dataframe: ' + str(len(df_sub_wsb)))\n",
    "print('length of filtered comments dataframe: ' + str(len(df_com_wsb)))"
   ]
  },
  {
   "cell_type": "code",
   "execution_count": null,
   "id": "3cef774c-39d8-4402-b6d0-3339be790c55",
   "metadata": {},
   "outputs": [],
   "source": [
    "# Save subreddit files\n",
    "\n",
    "# df_sub_wsb.write_ndjson(r'C:\\Tempor\\Reddit\\data_for_sentiment_classification\\df_sub_finance_2015-01.json')\n",
    "# df_com_wsb.write_ndjson(r'C:\\Tempor\\Reddit\\data_for_sentiment_classification\\df_com_finance_2015-01.json')"
   ]
  },
  {
   "cell_type": "markdown",
   "id": "49a90702",
   "metadata": {},
   "source": [
    "******COMPANIES FILTER******"
   ]
  },
  {
   "cell_type": "code",
   "execution_count": null,
   "id": "ae5c48ee-871f-46c8-bb64-6ea6cf6b9556",
   "metadata": {},
   "outputs": [],
   "source": [
    "text=df_sub_wsb['selftext']\n",
    "title=df_sub_wsb['title']\n",
    "\n",
    "# #Apple\n",
    "# A=np.array(text.str.contains('|'.join(['iphone','apple tv','apple ipad','apple id','apple mac','apple ipod',\n",
    "#                                        'apple macbook','apple itunes','apple trailers','apple support','apple mini',\n",
    "#                                        'macbook pro','apple ipod touch']), literal=False))\n",
    "# #Apple Inc.(qui metto quelle doppie: apple store, apple stock, apple computer)\n",
    "# C=np.array(text.str.contains('|'.join(['apple inc','apple history','apple inc, history','apple company','apple stock',\n",
    "#                                        'apple inc. stock','apple jobs', 'apple, inc.','apple store','apple computer',\n",
    "#                                        'steve jobs','apple information','apple mission statement','history of apple inc']), literal=False))\n",
    "\n",
    "\n",
    "RES=np.array(text.str.contains('|'.join(['Apple','APPLE','AAPL','aapl',\n",
    "                                         'Amazon','AMAZON','AMZN','amzn',\n",
    "                                         'Google', 'GOOGLE','GOOG','goog'])) |\n",
    "             title.str.contains('|'.join(['Apple','APPLE','AAPL','aapl',\n",
    "                                         'Amazon','AMAZON','AMZN','amzn',\n",
    "                                         'Google', 'GOOGLE','GOOG','goog'])) )\n",
    "# RES=np.logical_or(A,C)\n",
    "df_sub_wsb_apple=df_sub_wsb.filter(RES)\n",
    "print('length of companies filtered submissions dataframe: ' + str(len(df_sub_wsb_apple)))"
   ]
  },
  {
   "cell_type": "code",
   "execution_count": null,
   "id": "eb55982b-9d78-4435-ba9d-377b73f73f2e",
   "metadata": {
    "tags": []
   },
   "outputs": [],
   "source": [
    "# Keep only comments made by users who replied to submissions in df_sub_web_apple. NB:  df_sub_web_apple contains also posts related to\n",
    "# amazona and google, but since the code was originally wrote only for apple we keep this name\n",
    "\n",
    "authors=df_sub_wsb_apple['name'].to_list()\n",
    "Bool_vector=np.array(df_com_wsb['link_id'].str.contains('|'.join(authors)))\n",
    "df_com_wsb_apple=df_com_wsb.filter(Bool_vector)\n",
    "print('length of companies filtered comments dataframe: ' + str(len(df_com_wsb_apple)))"
   ]
  },
  {
   "cell_type": "code",
   "execution_count": null,
   "id": "4c9f6075",
   "metadata": {},
   "outputs": [],
   "source": [
    "# data_pandas_prova=pl.read_csv(r'C:\\Tempor\\Reddit\\Pos_Neg\\df_pandas.csv')\n",
    "# data_pandas_prova=data_pandas_prova.filter(data_pandas_prova['text']!='[deleted]')"
   ]
  },
  {
   "cell_type": "code",
   "execution_count": 4,
   "id": "9fb650af",
   "metadata": {},
   "outputs": [],
   "source": [
    "# text=data_pandas_prova['text']\n",
    "# x=np.array(text.str.contains('|'.join(['Apple','APPLE','AAPL','aapl'])) )\n",
    "# y=np.array(text.str.contains('|'.join(['Amazon','AMAZON','AMZN','amzn'])) )\n",
    "# z=np.array(text.str.contains('|'.join(['Google', 'GOOGLE','GOOG','goog'])) )\n",
    "\n",
    "# df_sub_wsb_apple=data_pandas_prova.filter(x)\n",
    "# df_sub_wsb_amazon=data_pandas_prova.filter(y)\n",
    "# df_sub_wsb_google=data_pandas_prova.filter(z)\n",
    "# print('la lunghezza del dataframe di submissions di apple filtrato è ' + str(len(df_sub_wsb_apple)))\n",
    "# print('la lunghezza del dataframe di submissions di amazon filtrato è ' + str(len(df_sub_wsb_amazon)))\n",
    "# print('la lunghezza del dataframe di submissions di google filtrato è ' + str(len(df_sub_wsb_google)))"
   ]
  },
  {
   "cell_type": "markdown",
   "id": "445cd843-4033-47b4-b375-ff4a900d1e4c",
   "metadata": {},
   "source": [
    "******SENTIMENT CLASSIFICATION******"
   ]
  },
  {
   "cell_type": "code",
   "execution_count": null,
   "id": "1e3d8bd8-1747-43ec-bf9e-c7fca4f9b1c9",
   "metadata": {},
   "outputs": [],
   "source": [
    "# Let's focus on texts\n",
    "\n",
    "df_sub_nodes=df_sub_wsb_apple.select([\"selftext\",\"title\"])\n",
    "df_com_nodes=df_com_wsb_apple.select([\"body\"])"
   ]
  },
  {
   "cell_type": "code",
   "execution_count": null,
   "id": "de211b6b-5296-47fb-a411-fea2b900cf1f",
   "metadata": {},
   "outputs": [],
   "source": [
    "# Submissions contain both title and selftext. If there is no selftext to analize consider title\n",
    "\n",
    "prova=[]\n",
    "for i in range(len(df_sub_nodes)):\n",
    "    if(df_sub_nodes['selftext'][i]==\"\"):\n",
    "        prova.append(df_sub_nodes['title'][i])\n",
    "    else:\n",
    "        prova.append(df_sub_nodes['selftext'][i])\n",
    "\n",
    "df_sub_nodes=df_sub_nodes.with_columns(pl.Series(name=\"body\", values=prova))\n",
    "df_sub_nodes=df_sub_nodes.select([\"body\"])\n",
    "\n",
    "# Convert the dataset to be ready for the classification\n",
    "sub_dataset=Dataset(df_sub_nodes.to_arrow()).rename_column(\"body\",\"text\")\n",
    "com_dataset=Dataset(df_com_nodes.to_arrow()).rename_column(\"body\",\"text\")"
   ]
  },
  {
   "cell_type": "code",
   "execution_count": null,
   "id": "95fdbae1",
   "metadata": {},
   "outputs": [],
   "source": [
    "# BART zero-shot classification\n",
    "pipe=pipeline(\"zero-shot-classification\", model=\"facebook/bart-large-mnli\")"
   ]
  },
  {
   "cell_type": "code",
   "execution_count": null,
   "id": "9008bdd1-2187-4bae-ae53-2d0cc38c5f53",
   "metadata": {},
   "outputs": [
    {
     "data": {
      "application/vnd.jupyter.widget-view+json": {
       "model_id": "b96c22ae494c4ceeb4855154c68fb80e",
       "version_major": 2,
       "version_minor": 0
      },
      "text/plain": [
       "  0%|          | 0/3984 [00:00<?, ?it/s]"
      ]
     },
     "metadata": {},
     "output_type": "display_data"
    }
   ],
   "source": [
    "# Submissions\n",
    "\n",
    "possibili=['Positive','Negative']\n",
    "predictions=[]\n",
    "probs=[]\n",
    "for line in tqdm(sub_dataset):\n",
    "    output=pipe(line['text'],possibili, multi_label=False)\n",
    "    prediction=output['labels'][0]\n",
    "    predictions.append(prediction)\n",
    "    probs.append(output['scores'][0])\n",
    "df_sub_pre_pandas=df_sub_nodes.with_columns(pl.Series(name=\"labels\", values=predictions),\n",
    "                                            pl.Series(name=\"prob\", values=probs) ).rename({\"body\":\"text\"})\n",
    "\n",
    "df_sub_pandas=df_sub_pre_pandas.to_pandas()\n",
    "df_sub_pandas.to_csv(r'C:\\Tempor\\reddit\\df_sub_pandas.csv')"
   ]
  },
  {
   "cell_type": "code",
   "execution_count": null,
   "id": "14b8e3e0",
   "metadata": {},
   "outputs": [],
   "source": [
    "# Comments\n",
    "\n",
    "possibili=['Positive','Negative']\n",
    "predictions_com=[]\n",
    "probs_com=[]\n",
    "for line in tqdm(com_dataset):\n",
    "    output=pipe(line['text'],possibili, multi_label=False)\n",
    "    prediction=output['labels'][0]\n",
    "    predictions_com.append(prediction)\n",
    "    probs_com.append(output['scores'][0])\n",
    "df_com_pre_pandas=df_com_nodes.with_columns(pl.Series(name=\"labels\", values=predictions_com),\n",
    "                                            pl.Series(name=\"prob\", values=probs_com) ).rename({\"body\":\"text\"})\n",
    "\n",
    "df_com_pandas=df_com_pre_pandas.to_pandas()\n",
    "df_com_pandas.to_csv(r'C:\\Tempor\\reddit\\df_com_pandas.csv')"
   ]
  },
  {
   "cell_type": "code",
   "execution_count": 27,
   "id": "bef0c694-f64b-4edc-9343-5774d1f0dd63",
   "metadata": {},
   "outputs": [],
   "source": [
    "df_pandas=pd.concat([df_sub_pandas,df_com_pandas])\n",
    "df_pandas.to_csv(r'C:\\Tempor\\reddit\\df_pandas.csv')\n",
    "sentiment_data=pd.read_csv(r'C:\\Tempor\\reddit\\Pos_Neg\\df_pandas.csv')"
   ]
  },
  {
   "cell_type": "code",
   "execution_count": 5,
   "id": "c7b0c6b9-e601-4310-867c-dc5350889c83",
   "metadata": {},
   "outputs": [
    {
     "data": {
      "text/html": [
       "<div>\n",
       "<style scoped>\n",
       "    .dataframe tbody tr th:only-of-type {\n",
       "        vertical-align: middle;\n",
       "    }\n",
       "\n",
       "    .dataframe tbody tr th {\n",
       "        vertical-align: top;\n",
       "    }\n",
       "\n",
       "    .dataframe thead th {\n",
       "        text-align: right;\n",
       "    }\n",
       "</style>\n",
       "<table border=\"1\" class=\"dataframe\">\n",
       "  <thead>\n",
       "    <tr style=\"text-align: right;\">\n",
       "      <th></th>\n",
       "      <th>Unnamed: 0</th>\n",
       "      <th>text</th>\n",
       "      <th>labels</th>\n",
       "      <th>prob</th>\n",
       "    </tr>\n",
       "  </thead>\n",
       "  <tbody>\n",
       "    <tr>\n",
       "      <th>0</th>\n",
       "      <td>0</td>\n",
       "      <td>One of the \"secrets\" to successful positioning...</td>\n",
       "      <td>Positive</td>\n",
       "      <td>0.618226</td>\n",
       "    </tr>\n",
       "    <tr>\n",
       "      <th>1</th>\n",
       "      <td>1</td>\n",
       "      <td>Please comment before PMing.  I have a couple ...</td>\n",
       "      <td>Negative</td>\n",
       "      <td>0.641091</td>\n",
       "    </tr>\n",
       "    <tr>\n",
       "      <th>2</th>\n",
       "      <td>2</td>\n",
       "      <td>I'm looking for 2x 25$ Amazon or Steam GCs or ...</td>\n",
       "      <td>Positive</td>\n",
       "      <td>0.637804</td>\n",
       "    </tr>\n",
       "    <tr>\n",
       "      <th>3</th>\n",
       "      <td>3</td>\n",
       "      <td>Looking for a Google Play Card 25 USA. Comment...</td>\n",
       "      <td>Positive</td>\n",
       "      <td>0.645432</td>\n",
       "    </tr>\n",
       "    <tr>\n",
       "      <th>4</th>\n",
       "      <td>4</td>\n",
       "      <td>[H]Amazon $5 Gift Card [W]90% Venmo</td>\n",
       "      <td>Positive</td>\n",
       "      <td>0.835574</td>\n",
       "    </tr>\n",
       "  </tbody>\n",
       "</table>\n",
       "</div>"
      ],
      "text/plain": [
       "   Unnamed: 0                                               text    labels  \\\n",
       "0           0  One of the \"secrets\" to successful positioning...  Positive   \n",
       "1           1  Please comment before PMing.  I have a couple ...  Negative   \n",
       "2           2  I'm looking for 2x 25$ Amazon or Steam GCs or ...  Positive   \n",
       "3           3  Looking for a Google Play Card 25 USA. Comment...  Positive   \n",
       "4           4                [H]Amazon $5 Gift Card [W]90% Venmo  Positive   \n",
       "\n",
       "       prob  \n",
       "0  0.618226  \n",
       "1  0.641091  \n",
       "2  0.637804  \n",
       "3  0.645432  \n",
       "4  0.835574  "
      ]
     },
     "execution_count": 5,
     "metadata": {},
     "output_type": "execute_result"
    }
   ],
   "source": [
    "sentiment_data.head()"
   ]
  },
  {
   "cell_type": "code",
   "execution_count": 6,
   "id": "d91bd61e-972d-4ebe-94ac-2399499f27e9",
   "metadata": {},
   "outputs": [
    {
     "data": {
      "text/plain": [
       "Text(0.5, 1.0, 'Sentiment Data Distribution')"
      ]
     },
     "execution_count": 6,
     "metadata": {},
     "output_type": "execute_result"
    },
    {
     "data": {
      "image/png": "[encoded data removed]",
      "text/plain": [
       "<Figure size 800x400 with 1 Axes>"
      ]
     },
     "metadata": {},
     "output_type": "display_data"
    }
   ],
   "source": [
    "val_count = sentiment_data['labels'].value_counts()\n",
    "percentage=val_count*100/len(sentiment_data)\n",
    "\n",
    "plt.figure(figsize=(8,4))\n",
    "plt.bar(val_count.index, percentage.values)\n",
    "plt.title(\"Sentiment Data Distribution\")"
   ]
  },
  {
   "cell_type": "code",
   "execution_count": null,
   "id": "6be93f24-ed76-49ae-ac92-0f841ceeee64",
   "metadata": {},
   "outputs": [],
   "source": []
  }
 ],
 "metadata": {
  "kernelspec": {
   "display_name": "gt-env",
   "language": "python",
   "name": "python3"
  },
  "language_info": {
   "codemirror_mode": {
    "name": "ipython",
    "version": 3
   },
   "file_extension": ".py",
   "mimetype": "text/x-python",
   "name": "python",
   "nbconvert_exporter": "python",
   "pygments_lexer": "ipython3",
   "version": "3.12.2"
  }
 },
 "nbformat": 4,
 "nbformat_minor": 5
}
