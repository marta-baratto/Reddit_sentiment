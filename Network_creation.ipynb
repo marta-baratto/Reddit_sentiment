{
 "cells": [
  {
   "cell_type": "markdown",
   "id": "cfbae5b0-34b8-47bc-b335-caeabcd58709",
   "metadata": {},
   "source": [
    "******OPEN DATAFRAME WITH POLARS******"
   ]
  },
  {
   "cell_type": "code",
   "execution_count": 1,
   "id": "ccaa42e6-173c-4e8c-880e-bab754df4b2f",
   "metadata": {
    "tags": []
   },
   "outputs": [],
   "source": [
    "#Parallelism\n",
    "import polars as pl\n",
    "\n",
    "#Import modules\n",
    "import matplotlib.pyplot as plt\n",
    "%matplotlib inline\n",
    "\n",
    "#handling data\n",
    "import pandas as pd\n",
    "import numpy as np\n",
    "import json\n",
    "import networkx as nx\n",
    "from datetime import datetime\n",
    "\n",
    "import random"
   ]
  },
  {
   "cell_type": "code",
   "execution_count": 2,
   "id": "95d3cf10-3f8f-4002-8545-635d81d1a7b5",
   "metadata": {
    "tags": []
   },
   "outputs": [
    {
     "name": "stdout",
     "output_type": "stream",
     "text": [
      "la lunghezza del dataframe di submissions è 1339\n",
      "la lunghezza del dataframe di comments è 1581213\n"
     ]
    }
   ],
   "source": [
    "#load data (********CREATI con il notebook Apple_wsb_filter)\n",
    "data_sub1=pl.read_ndjson(r'C:\\Tempor\\reddit\\network\\df_sub_wsb_apple_1.json')\n",
    "data_com1=pl.read_ndjson(r'C:\\Tempor\\reddit\\network\\df_com_wsb_1.json')\n",
    "\n",
    "data_sub2=pl.read_ndjson(r'C:\\Tempor\\reddit\\network\\df_sub_wsb_apple_2.json')\n",
    "data_com2=pl.read_ndjson(r'C:\\Tempor\\reddit\\network\\df_com_wsb_2.json')\n",
    "\n",
    "data_sub3=pl.read_ndjson(r'C:\\Tempor\\reddit\\network\\df_sub_wsb_apple_3.json')\n",
    "data_com3=pl.read_ndjson(r'C:\\Tempor\\reddit\\network\\df_com_wsb_3.json')\n",
    "\n",
    "data_sub4=pl.read_ndjson(r'C:\\Tempor\\reddit\\network\\df_sub_wsb_apple_4.json')\n",
    "data_com4=pl.read_ndjson(r'C:\\Tempor\\reddit\\network\\df_com_wsb_4.json')\n",
    "\n",
    "data_sub5=pl.read_ndjson(r'C:\\Tempor\\reddit\\network\\df_sub_wsb_apple_5.json')\n",
    "data_com5=pl.read_ndjson(r'C:\\Tempor\\reddit\\network\\df_com_wsb_5.json')\n",
    "\n",
    "data_sub=pl.concat([data_sub1,data_sub2,data_sub3,data_sub4,data_sub5])\n",
    "data_com=pl.concat([data_com1,data_com2,data_com3,data_com4,data_com5])\n",
    "\n",
    "#select columns\n",
    "df_sub_wsb_apple=data_sub.select([\"id\",\"author\",\"body\",\"name\",\"score\",\"num_comments\",\"subreddit\",\"subreddit_id\",\"from\",\"from_id\",\"created_utc\"])\n",
    "df_com_wsb=data_com.select([\"id\",\"author\",\"body\",\"name\",\"parent_id\",\"link_id\",\"subreddit\",\"subreddit_id\",\"created_utc\"])\n",
    "\n",
    "\n",
    "#Dataframe length\n",
    "print('la lunghezza del dataframe di submissions è ' + str(len(df_sub_wsb_apple)))\n",
    "print('la lunghezza del dataframe di comments è ' + str(len(df_com_wsb)))\n"
   ]
  },
  {
   "cell_type": "code",
   "execution_count": 4,
   "id": "fff7730b",
   "metadata": {},
   "outputs": [],
   "source": [
    "subreddit_list=(\"wallstreetbets\",\"finance\",\"investing\",\"Frugal\",\"SecurityAnalysis\",\n",
    "                \"RobinHood\",\"InvestmentClub\",\"Forex\",\"options\",\"CryptoCurrency\",\n",
    "                \"StockMarket\",\"economy\",\"Economics\",\"GlobalMarkets\",\"dividends\",\n",
    "                \"Daytrading\",\"algotrading\",\"pennystocks\",\"ValueInvesting\",\"Bogleheads\",\n",
    "                \"RobinHoodPennyStocks\",\"RealDayTrading\",\"investingforbeginners\",\"business\",\n",
    "                \"Flipping\",\"Entrepreneur\",\"wallstreet\",\"wallstreetdd\",\"MiddleClassFinance\",\n",
    "                \"beermoney\",\"DropShipping101\",\"smallbusiness\",\"churning\",\"giftcardexchange\",\n",
    "                \"personalfinance\",\"FinancialPlanning\",\"CRedit\",\"povertyfinance\",\n",
    "                \"financialindipendence\",\"leanfire\",\"flatFIRE\",\"StudentLoans\")"
   ]
  },
  {
   "cell_type": "code",
   "execution_count": 5,
   "id": "6ca21534",
   "metadata": {},
   "outputs": [],
   "source": [
    "# sub_business=df_sub_wsb_apple.filter(df_sub_wsb_apple[\"subreddit\"]==\"business\").select([\"author\"]).unique()\n",
    "# com_business=df_com_wsb.filter(df_com_wsb[\"subreddit\"]==\"business\").select([\"author\"]).unique()\n",
    "# business=pl.concat([sub_business,com_business])\n",
    "# sub_business_list=sub_business[\"author\"].to_list()\n",
    "# business_nodes=business.unique()[\"author\"].to_list()\n",
    "# g=nx.Graph()\n",
    "# for node in sub_business_list:\n",
    "#     g.add_edges_from([(node,other) for other in business_nodes])\n",
    "\n",
    "# g.remove_node('[deleted]')"
   ]
  },
  {
   "cell_type": "markdown",
   "id": "6299996d-f021-4df2-b1e5-7fa76c578e8f",
   "metadata": {},
   "source": [
    "***NETWORK CREATION***"
   ]
  },
  {
   "cell_type": "code",
   "execution_count": 3,
   "id": "5ddd270a-3669-4970-bc08-38b2ca227695",
   "metadata": {
    "tags": []
   },
   "outputs": [],
   "source": [
    "import networkx as nx"
   ]
  },
  {
   "cell_type": "code",
   "execution_count": null,
   "id": "eb55982b-9d78-4435-ba9d-377b73f73f2e",
   "metadata": {
    "tags": []
   },
   "outputs": [
    {
     "name": "stdout",
     "output_type": "stream",
     "text": [
      "La rete con i soli link tra autori delle submissions e chi risponde loro direttamente ha 4013 nodi e 4704 link\n"
     ]
    }
   ],
   "source": [
    "#Network creation\n",
    "G=nx.Graph()\n",
    "G.add_nodes_from(df_sub_wsb_apple['author'])\n",
    "\n",
    "# len(G.nodes)\n",
    "# df_com_wsb['parent_id'][2]\n",
    "\n",
    "\n",
    "authors=df_sub_wsb_apple['name'].to_list()\n",
    "Bool_vector=np.array(df_com_wsb['link_id'].str.contains('|'.join(authors)))\n",
    "df_com_wsb_apple=df_com_wsb.filter(Bool_vector)\n",
    "# len(df_com_wsb_apple)\n",
    "\n",
    "#Adding edges between Submission's author and repliers\n",
    "for i in range(int(len(df_sub_wsb_apple))):\n",
    "    df_links=df_sub_wsb_apple.filter(df_sub_wsb_apple['name']==df_com_wsb_apple['link_id'][i]) \n",
    "    for j in range(len(df_links)):\n",
    "        if (df_com_wsb_apple['author'][i]!= df_links['author'][j]):\n",
    "            G.add_edge(df_com_wsb_apple['author'][i], df_links['author'][j], weight=1)\n",
    "            \n",
    "#Adding edges between repliers\n",
    "for i in range(int(len(df_com_wsb_apple))):\n",
    "    df_links=df_com_wsb_apple.filter(df_com_wsb_apple['name']==df_com_wsb_apple['parent_id'][i])\n",
    "    for j in range(len(df_links)):\n",
    "        if (df_com_wsb_apple['author'][i]!= df_links['author'][j]):\n",
    "            G.add_edge(df_com_wsb_apple['author'][i], df_links['author'][j], weight=1)\n",
    "\n",
    "#Adding edges between users of the same subreddit, with weight=0.5\n",
    "# for subreddit in subreddit_list:\n",
    "#     sub_business=df_sub_wsb_apple.filter(df_sub_wsb_apple[\"subreddit\"]==subreddit).select([\"author\"]).unique()\n",
    "#     com_business=df_com_wsb.filter(df_com_wsb[\"subreddit\"]==subreddit).select([\"author\"]).unique()\n",
    "#     business=pl.concat([sub_business,com_business])\n",
    "#     sub_business_list=sub_business[\"author\"].to_list()\n",
    "#     business_nodes=business.unique()[\"author\"].to_list()\n",
    "#     for node in sub_business_list:\n",
    "#         G.add_edges_from([(node,other) for other in business_nodes], weight=0.01)\n",
    "         \n",
    "#Remove node corresponding to all the unsubscribed authors\n",
    "G.remove_node('[deleted]')\n",
    "        \n",
    "        \n",
    "print('The network with only links between authors of submissions and those who answer them directly has ' \n",
    "      + str(len(G.nodes)) + ' nodes and ' + str(len(G.edges)) + ' links')"
   ]
  },
  {
   "cell_type": "code",
   "execution_count": 30,
   "id": "8869f048-090b-40f6-8a7f-6808b7545394",
   "metadata": {},
   "outputs": [],
   "source": [
    "# plt.figure(figsize=(12,12))\n",
    "# nx.draw_networkx(G,  with_labels=False, node_size=1)\n",
    "# plt.show()"
   ]
  },
  {
   "cell_type": "code",
   "execution_count": null,
   "id": "1fe4099a-2809-4812-acac-a4d32ec1d29b",
   "metadata": {
    "tags": []
   },
   "outputs": [],
   "source": [
    "print(f\"There are {nx.number_connected_components(G)} connected components in the Graph\")\n",
    "\n",
    "connected_component_subgraphs = (G.subgraph(c) for c in nx.connected_components(G))\n",
    "largest_subgraph = max(connected_component_subgraphs, key=len)\n",
    "\n",
    "print(f\"There are {largest_subgraph.number_of_nodes()} nodes and {largest_subgraph.number_of_edges()} \\\n",
    "edges present in the largest component of the Graph\")\n",
    "\n",
    "nx.write_graphml_lxml(largest_subgraph, r'C:\\Tempor\\reddit\\network\\network_5_months_all_nodes.graphml')   "
   ]
  }
 ],
 "metadata": {
  "kernelspec": {
   "display_name": "gt-env",
   "language": "python",
   "name": "python3"
  },
  "language_info": {
   "codemirror_mode": {
    "name": "ipython",
    "version": 3
   },
   "file_extension": ".py",
   "mimetype": "text/x-python",
   "name": "python",
   "nbconvert_exporter": "python",
   "pygments_lexer": "ipython3",
   "version": "3.12.2"
  }
 },
 "nbformat": 4,
 "nbformat_minor": 5
}
