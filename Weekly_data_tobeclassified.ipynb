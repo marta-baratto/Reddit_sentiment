{
 "cells": [
  {
   "cell_type": "markdown",
   "id": "cfbae5b0-34b8-47bc-b335-caeabcd58709",
   "metadata": {},
   "source": [
    "In this notebook data are divided in weeks, to be able to compute weekly sentiment."
   ]
  },
  {
   "cell_type": "markdown",
   "id": "13f187b9-b472-4019-bdad-01f1138f835f",
   "metadata": {},
   "source": [
    "******OPEN DATAFRAME WITH POLARS******"
   ]
  },
  {
   "cell_type": "code",
   "execution_count": 1,
   "id": "ccaa42e6-173c-4e8c-880e-bab754df4b2f",
   "metadata": {
    "tags": []
   },
   "outputs": [],
   "source": [
    "#Parallelism\n",
    "import polars as pl\n",
    "\n",
    "#Import modules\n",
    "import matplotlib.pyplot as plt\n",
    "%matplotlib inline\n",
    "\n",
    "#handling data\n",
    "import pandas as pd\n",
    "import numpy as np\n",
    "import json\n",
    "import networkx as nx\n",
    "from datetime import datetime\n",
    "\n",
    "import random"
   ]
  },
  {
   "cell_type": "code",
   "execution_count": null,
   "id": "95d3cf10-3f8f-4002-8545-635d81d1a7b5",
   "metadata": {
    "tags": []
   },
   "outputs": [],
   "source": [
    "#load data\n",
    "data_sub=pl.read_ndjson(r\"\\\\193.205.65.209\\Data\\Marta_Baratto\\Reddit\\submissions\\RS_2016-04\")\n",
    "data_com=pl.read_ndjson(r\"\\\\193.205.65.209\\Data\\Marta_Baratto\\Reddit\\comments\\RC_2016-04\")"
   ]
  },
  {
   "cell_type": "code",
   "execution_count": 3,
   "id": "2d700020",
   "metadata": {},
   "outputs": [
    {
     "name": "stdout",
     "output_type": "stream",
     "text": [
      "la lunghezza del dataframe di submissions iniziale è 6922510\n",
      "la lunghezza del dataframe di comments iniziale è 64271256\n"
     ]
    }
   ],
   "source": [
    "#select columns\n",
    "df_sub=data_sub.select([\"id\",\"author\",\"title\",\"selftext\",\"name\",\"score\",\"num_comments\",\"subreddit\",\"subreddit_id\",\"from\",\"from_id\",\"created_utc\"])\n",
    "df_com=data_com.select([\"id\",\"author\",\"body\",\"parent_id\",\"link_id\",\"subreddit\",\"subreddit_id\",\"created_utc\"])\n",
    "\n",
    "# #expression to call columns\n",
    "# df_pl['selftext']\n",
    "\n",
    "#Dataframe length\n",
    "print('la lunghezza del dataframe di submissions iniziale è ' + str(len(df_sub)))\n",
    "print('la lunghezza del dataframe di comments iniziale è ' + str(len(df_com)))"
   ]
  },
  {
   "cell_type": "code",
   "execution_count": 4,
   "id": "d6a45170",
   "metadata": {},
   "outputs": [
    {
     "data": {
      "text/html": [
       "<div><style>\n",
       ".dataframe > thead > tr,\n",
       ".dataframe > tbody > tr {\n",
       "  text-align: right;\n",
       "  white-space: pre-wrap;\n",
       "}\n",
       "</style>\n",
       "<small>shape: (5, 8)</small><table border=\"1\" class=\"dataframe\"><thead><tr><th>id</th><th>author</th><th>body</th><th>parent_id</th><th>link_id</th><th>subreddit</th><th>subreddit_id</th><th>created_utc</th></tr><tr><td>str</td><td>str</td><td>str</td><td>str</td><td>str</td><td>str</td><td>str</td><td>i64</td></tr></thead><tbody><tr><td>&quot;d1l58qp&quot;</td><td>&quot;Lets-MAGA-now&quot;</td><td>&quot;Stop talking t…</td><td>&quot;t1_d1l4guz&quot;</td><td>&quot;t3_4cow6o&quot;</td><td>&quot;The_Donald&quot;</td><td>&quot;t5_38unr&quot;</td><td>1459468800</td></tr><tr><td>&quot;d1l58qq&quot;</td><td>&quot;[deleted]&quot;</td><td>&quot;[removed]&quot;</td><td>&quot;t3_4cqk00&quot;</td><td>&quot;t3_4cqk00&quot;</td><td>&quot;gaming&quot;</td><td>&quot;t5_2qh03&quot;</td><td>1459468800</td></tr><tr><td>&quot;d1l58qr&quot;</td><td>&quot;TR_Ollington&quot;</td><td>&quot;I found out af…</td><td>&quot;t1_d1l4gra&quot;</td><td>&quot;t3_4cr0a8&quot;</td><td>&quot;DestinyTheGame…</td><td>&quot;t5_2vq0w&quot;</td><td>1459468800</td></tr><tr><td>&quot;d1l58qs&quot;</td><td>&quot;Diamondzacks&quot;</td><td>&quot;A Long Way to …</td><td>&quot;t3_4cr5x8&quot;</td><td>&quot;t3_4cr5x8&quot;</td><td>&quot;printSF&quot;</td><td>&quot;t5_2rzjk&quot;</td><td>1459468800</td></tr><tr><td>&quot;d1l58qt&quot;</td><td>&quot;Sir_Wylde&quot;</td><td>&quot;Splarnst...I b…</td><td>&quot;t1_d1l3a1m&quot;</td><td>&quot;t3_4cqw8y&quot;</td><td>&quot;vexillology&quot;</td><td>&quot;t5_2rygj&quot;</td><td>1459468800</td></tr></tbody></table></div>"
      ],
      "text/plain": [
       "shape: (5, 8)\n",
       "┌─────────┬────────────┬────────────┬────────────┬───────────┬────────────┬────────────┬───────────┐\n",
       "│ id      ┆ author     ┆ body       ┆ parent_id  ┆ link_id   ┆ subreddit  ┆ subreddit_ ┆ created_u │\n",
       "│ ---     ┆ ---        ┆ ---        ┆ ---        ┆ ---       ┆ ---        ┆ id         ┆ tc        │\n",
       "│ str     ┆ str        ┆ str        ┆ str        ┆ str       ┆ str        ┆ ---        ┆ ---       │\n",
       "│         ┆            ┆            ┆            ┆           ┆            ┆ str        ┆ i64       │\n",
       "╞═════════╪════════════╪════════════╪════════════╪═══════════╪════════════╪════════════╪═══════════╡\n",
       "│ d1l58qp ┆ Lets-MAGA- ┆ Stop       ┆ t1_d1l4guz ┆ t3_4cow6o ┆ The_Donald ┆ t5_38unr   ┆ 145946880 │\n",
       "│         ┆ now        ┆ talking to ┆            ┆           ┆            ┆            ┆ 0         │\n",
       "│         ┆            ┆ me stalker ┆            ┆           ┆            ┆            ┆           │\n",
       "│ d1l58qq ┆ [deleted]  ┆ [removed]  ┆ t3_4cqk00  ┆ t3_4cqk00 ┆ gaming     ┆ t5_2qh03   ┆ 145946880 │\n",
       "│         ┆            ┆            ┆            ┆           ┆            ┆            ┆ 0         │\n",
       "│ d1l58qr ┆ TR_Ollingt ┆ I found    ┆ t1_d1l4gra ┆ t3_4cr0a8 ┆ DestinyThe ┆ t5_2vq0w   ┆ 145946880 │\n",
       "│         ┆ on         ┆ out after  ┆            ┆           ┆ Game       ┆            ┆ 0         │\n",
       "│         ┆            ┆ yeah.      ┆            ┆           ┆            ┆            ┆           │\n",
       "│ d1l58qs ┆ Diamondzac ┆ A Long Way ┆ t3_4cr5x8  ┆ t3_4cr5x8 ┆ printSF    ┆ t5_2rzjk   ┆ 145946880 │\n",
       "│         ┆ ks         ┆ to a Small ┆            ┆           ┆            ┆            ┆ 0         │\n",
       "│         ┆            ┆ Angry      ┆            ┆           ┆            ┆            ┆           │\n",
       "│         ┆            ┆ Plan…      ┆            ┆           ┆            ┆            ┆           │\n",
       "│ d1l58qt ┆ Sir_Wylde  ┆ Splarnst.. ┆ t1_d1l3a1m ┆ t3_4cqw8y ┆ vexillolog ┆ t5_2rygj   ┆ 145946880 │\n",
       "│         ┆            ┆ .I believe ┆            ┆           ┆ y          ┆            ┆ 0         │\n",
       "│         ┆            ┆ that the   ┆            ┆           ┆            ┆            ┆           │\n",
       "│         ┆            ┆ fl…        ┆            ┆           ┆            ┆            ┆           │\n",
       "└─────────┴────────────┴────────────┴────────────┴───────────┴────────────┴────────────┴───────────┘"
      ]
     },
     "execution_count": 4,
     "metadata": {},
     "output_type": "execute_result"
    }
   ],
   "source": [
    "df_com.head()"
   ]
  },
  {
   "cell_type": "code",
   "execution_count": 5,
   "id": "a3622fc8",
   "metadata": {},
   "outputs": [],
   "source": [
    "name_list=[]\n",
    "for i in range(len(df_com)):\n",
    "    name=\"t1_\" + df_com[\"id\"][i]\n",
    "    name_list.append(name)\n",
    "\n",
    "df_com=df_com.with_columns(pl.Series(name=\"name\", values=name_list))"
   ]
  },
  {
   "cell_type": "code",
   "execution_count": 6,
   "id": "57c26f1e",
   "metadata": {},
   "outputs": [
    {
     "data": {
      "text/html": [
       "<div><style>\n",
       ".dataframe > thead > tr,\n",
       ".dataframe > tbody > tr {\n",
       "  text-align: right;\n",
       "  white-space: pre-wrap;\n",
       "}\n",
       "</style>\n",
       "<small>shape: (5, 9)</small><table border=\"1\" class=\"dataframe\"><thead><tr><th>id</th><th>author</th><th>body</th><th>parent_id</th><th>link_id</th><th>subreddit</th><th>subreddit_id</th><th>created_utc</th><th>name</th></tr><tr><td>str</td><td>str</td><td>str</td><td>str</td><td>str</td><td>str</td><td>str</td><td>i64</td><td>str</td></tr></thead><tbody><tr><td>&quot;d1l58qp&quot;</td><td>&quot;Lets-MAGA-now&quot;</td><td>&quot;Stop talking t…</td><td>&quot;t1_d1l4guz&quot;</td><td>&quot;t3_4cow6o&quot;</td><td>&quot;The_Donald&quot;</td><td>&quot;t5_38unr&quot;</td><td>1459468800</td><td>&quot;t1_d1l58qp&quot;</td></tr><tr><td>&quot;d1l58qq&quot;</td><td>&quot;[deleted]&quot;</td><td>&quot;[removed]&quot;</td><td>&quot;t3_4cqk00&quot;</td><td>&quot;t3_4cqk00&quot;</td><td>&quot;gaming&quot;</td><td>&quot;t5_2qh03&quot;</td><td>1459468800</td><td>&quot;t1_d1l58qq&quot;</td></tr><tr><td>&quot;d1l58qr&quot;</td><td>&quot;TR_Ollington&quot;</td><td>&quot;I found out af…</td><td>&quot;t1_d1l4gra&quot;</td><td>&quot;t3_4cr0a8&quot;</td><td>&quot;DestinyTheGame…</td><td>&quot;t5_2vq0w&quot;</td><td>1459468800</td><td>&quot;t1_d1l58qr&quot;</td></tr><tr><td>&quot;d1l58qs&quot;</td><td>&quot;Diamondzacks&quot;</td><td>&quot;A Long Way to …</td><td>&quot;t3_4cr5x8&quot;</td><td>&quot;t3_4cr5x8&quot;</td><td>&quot;printSF&quot;</td><td>&quot;t5_2rzjk&quot;</td><td>1459468800</td><td>&quot;t1_d1l58qs&quot;</td></tr><tr><td>&quot;d1l58qt&quot;</td><td>&quot;Sir_Wylde&quot;</td><td>&quot;Splarnst...I b…</td><td>&quot;t1_d1l3a1m&quot;</td><td>&quot;t3_4cqw8y&quot;</td><td>&quot;vexillology&quot;</td><td>&quot;t5_2rygj&quot;</td><td>1459468800</td><td>&quot;t1_d1l58qt&quot;</td></tr></tbody></table></div>"
      ],
      "text/plain": [
       "shape: (5, 9)\n",
       "┌─────────┬────────────┬───────────┬───────────┬───┬───────────┬───────────┬───────────┬───────────┐\n",
       "│ id      ┆ author     ┆ body      ┆ parent_id ┆ … ┆ subreddit ┆ subreddit ┆ created_u ┆ name      │\n",
       "│ ---     ┆ ---        ┆ ---       ┆ ---       ┆   ┆ ---       ┆ _id       ┆ tc        ┆ ---       │\n",
       "│ str     ┆ str        ┆ str       ┆ str       ┆   ┆ str       ┆ ---       ┆ ---       ┆ str       │\n",
       "│         ┆            ┆           ┆           ┆   ┆           ┆ str       ┆ i64       ┆           │\n",
       "╞═════════╪════════════╪═══════════╪═══════════╪═══╪═══════════╪═══════════╪═══════════╪═══════════╡\n",
       "│ d1l58qp ┆ Lets-MAGA- ┆ Stop      ┆ t1_d1l4gu ┆ … ┆ The_Donal ┆ t5_38unr  ┆ 145946880 ┆ t1_d1l58q │\n",
       "│         ┆ now        ┆ talking   ┆ z         ┆   ┆ d         ┆           ┆ 0         ┆ p         │\n",
       "│         ┆            ┆ to me     ┆           ┆   ┆           ┆           ┆           ┆           │\n",
       "│         ┆            ┆ stalker   ┆           ┆   ┆           ┆           ┆           ┆           │\n",
       "│ d1l58qq ┆ [deleted]  ┆ [removed] ┆ t3_4cqk00 ┆ … ┆ gaming    ┆ t5_2qh03  ┆ 145946880 ┆ t1_d1l58q │\n",
       "│         ┆            ┆           ┆           ┆   ┆           ┆           ┆ 0         ┆ q         │\n",
       "│ d1l58qr ┆ TR_Ollingt ┆ I found   ┆ t1_d1l4gr ┆ … ┆ DestinyTh ┆ t5_2vq0w  ┆ 145946880 ┆ t1_d1l58q │\n",
       "│         ┆ on         ┆ out after ┆ a         ┆   ┆ eGame     ┆           ┆ 0         ┆ r         │\n",
       "│         ┆            ┆ yeah.     ┆           ┆   ┆           ┆           ┆           ┆           │\n",
       "│ d1l58qs ┆ Diamondzac ┆ A Long    ┆ t3_4cr5x8 ┆ … ┆ printSF   ┆ t5_2rzjk  ┆ 145946880 ┆ t1_d1l58q │\n",
       "│         ┆ ks         ┆ Way to a  ┆           ┆   ┆           ┆           ┆ 0         ┆ s         │\n",
       "│         ┆            ┆ Small     ┆           ┆   ┆           ┆           ┆           ┆           │\n",
       "│         ┆            ┆ Angry     ┆           ┆   ┆           ┆           ┆           ┆           │\n",
       "│         ┆            ┆ Plan…     ┆           ┆   ┆           ┆           ┆           ┆           │\n",
       "│ d1l58qt ┆ Sir_Wylde  ┆ Splarnst. ┆ t1_d1l3a1 ┆ … ┆ vexillolo ┆ t5_2rygj  ┆ 145946880 ┆ t1_d1l58q │\n",
       "│         ┆            ┆ ..I       ┆ m         ┆   ┆ gy        ┆           ┆ 0         ┆ t         │\n",
       "│         ┆            ┆ believe   ┆           ┆   ┆           ┆           ┆           ┆           │\n",
       "│         ┆            ┆ that the  ┆           ┆   ┆           ┆           ┆           ┆           │\n",
       "│         ┆            ┆ fl…       ┆           ┆   ┆           ┆           ┆           ┆           │\n",
       "└─────────┴────────────┴───────────┴───────────┴───┴───────────┴───────────┴───────────┴───────────┘"
      ]
     },
     "execution_count": 6,
     "metadata": {},
     "output_type": "execute_result"
    }
   ],
   "source": [
    "df_com.head()"
   ]
  },
  {
   "cell_type": "code",
   "execution_count": 7,
   "id": "b5a6bd21-f418-4b55-8c29-78b98e00e653",
   "metadata": {
    "tags": []
   },
   "outputs": [],
   "source": [
    "from datetime import datetime\n",
    "\n",
    "def convert(text):\n",
    "    return datetime.fromtimestamp(int(text))\n",
    "\n",
    "datetime_creation_com=data_com['created_utc'].map_elements(convert)\n",
    "df_com=df_com.with_columns(datetime_creation_com)\n",
    "\n",
    "datetime_creation_sub=data_sub['created_utc'].map_elements(convert)\n",
    "df_sub=df_sub.with_columns(datetime_creation_sub)"
   ]
  },
  {
   "cell_type": "markdown",
   "id": "4c10c8a2-4a51-42c8-9e74-c5a4a9529499",
   "metadata": {},
   "source": [
    "***FILTRO SUBREDDIT***"
   ]
  },
  {
   "cell_type": "code",
   "execution_count": 9,
   "id": "177625fd-183d-4f3e-af36-70339d4994b3",
   "metadata": {
    "tags": []
   },
   "outputs": [],
   "source": [
    "#data_com.columns\n",
    "#link_id: è l'id della submission a cui si fa riferimento\n",
    "#parent_id: è l'id della submission o del comment a cui sta rispondendo\n",
    "#name: è l'id completo del comment\n",
    "#author: è l'autore"
   ]
  },
  {
   "cell_type": "code",
   "execution_count": 9,
   "id": "d183cd82-8d4c-44a2-9bcd-46e5229ed2f0",
   "metadata": {},
   "outputs": [],
   "source": [
    "#Se ci sono testi vuoti (es. ci sono delle immagini) usiamo i titoli come testi\n",
    "body=[]\n",
    "for i in range(len(df_sub)):\n",
    "    if(df_sub['selftext'][i]==\"\"):\n",
    "        body.append(df_sub['title'][i])\n",
    "    else:\n",
    "        body.append(df_sub['selftext'][i])\n",
    "\n",
    "df_sub=df_sub.with_columns(pl.Series(name=\"body\", values=body))"
   ]
  },
  {
   "cell_type": "code",
   "execution_count": 10,
   "id": "92762f69-4e92-4358-839c-bb5fd9be8c46",
   "metadata": {},
   "outputs": [],
   "source": [
    "df_sub=df_sub.select([\"id\",\"author\",\"body\",\"name\",\"subreddit\",\"subreddit_id\",\"created_utc\"])\n",
    "df_com=df_com.select([\"id\",\"author\",\"body\",\"name\",\"subreddit\",\"subreddit_id\",\"created_utc\",\"link_id\"])"
   ]
  },
  {
   "cell_type": "code",
   "execution_count": 11,
   "id": "515c9637-1757-4a13-99db-836b47dd24c4",
   "metadata": {},
   "outputs": [],
   "source": [
    "# df_com=df_com.with_columns(data_com.select([\"link_id\"]))"
   ]
  },
  {
   "cell_type": "code",
   "execution_count": 12,
   "id": "f4198e2b-576e-4ee5-90e1-76010c141561",
   "metadata": {},
   "outputs": [],
   "source": [
    "if (df_sub.columns==df_com.columns):\n",
    "    print('YES')"
   ]
  },
  {
   "cell_type": "code",
   "execution_count": 13,
   "id": "64fd9d45-1a6c-42f3-bc77-c9171f5a4aaf",
   "metadata": {},
   "outputs": [],
   "source": [
    "# df_sub.write_ndjson(r\"C:\\Tempor\\Reddit\\submissions\\RS_2015-01_body.json\")"
   ]
  },
  {
   "cell_type": "code",
   "execution_count": 14,
   "id": "4d87cf69-25f0-4aaa-8e5c-59d42987e0a0",
   "metadata": {},
   "outputs": [
    {
     "name": "stdout",
     "output_type": "stream",
     "text": [
      "la lunghezza del dataframe di submissions filtrato è 58268\n",
      "la lunghezza del dataframe di comments filtrato è 384556\n"
     ]
    }
   ],
   "source": [
    "df_sub_wsb=df_sub.filter((df_sub['subreddit']==\"wallstreetbets\")|(df_sub['subreddit']==\"finance\")|\n",
    "                         (df_sub['subreddit']==\"investing\")|(df_sub['subreddit']==\"Frugal\")|\n",
    "                         (df_sub['subreddit']==\"SecurityAnalysis\")|(df_sub['subreddit']==\"RobinHood\")|\n",
    "                         (df_sub['subreddit']==\"InvestmentClub\")|(df_sub['subreddit']==\"Forex\")|\n",
    "                         (df_sub['subreddit']==\"options\")|(df_sub['subreddit']==\"CryptoCurrency\")|\n",
    "                         (df_sub['subreddit']==\"StockMarket\")|(df_sub['subreddit']==\"economy\")|\n",
    "                         (df_sub['subreddit']==\"Economics\")|(df_sub['subreddit']==\"GlobalMarkets\")|\n",
    "                         (df_sub['subreddit']==\"dividends\")|(df_sub['subreddit']==\"Daytrading\")|\n",
    "                         (df_sub['subreddit']==\"algotrading\")|(df_sub['subreddit']==\"pennystocks\")|\n",
    "                         (df_sub['subreddit']==\"ValueInvesting\")|(df_sub['subreddit']==\"Bogleheads\")|\n",
    "                         (df_sub['subreddit']==\"RobinHoodPennyStocks\")|(df_sub['subreddit']==\"RealDayTrading\")|\n",
    "                         (df_sub['subreddit']==\"investingforbeginners\")|(df_sub['subreddit']==\"business\")|\n",
    "                         (df_sub['subreddit']==\"Flipping\")|(df_sub['subreddit']==\"Entrepreneur\")|\n",
    "                         (df_sub['subreddit']==\"wallstreet\")|(df_sub['subreddit']==\"wallstreetdd\")|\n",
    "                         (df_sub['subreddit']==\"MiddleClassFinance\")|(df_sub['subreddit']==\"beermoney\")|\n",
    "                         (df_sub['subreddit']==\"DropShipping101\")|(df_sub['subreddit']==\"smallbusiness\")|\n",
    "                         (df_sub['subreddit']==\"churning\")|(df_sub['subreddit']==\"giftcardexchange\")|\n",
    "                         (df_sub['subreddit']==\"personalfinance\")|(df_sub['subreddit']==\"FinancialPlanning\")|\n",
    "                         (df_sub['subreddit']==\"CRedit\")|(df_sub['subreddit']==\"povertyfinance\")|\n",
    "                         (df_sub['subreddit']==\"financialindipendence\")|(df_sub['subreddit']==\"leanfire\")|\n",
    "                         (df_sub['subreddit']==\"flatFIRE\")|(df_sub['subreddit']==\"StudentLoans\"))\n",
    "                         \n",
    "\n",
    "df_com_wsb=df_com.filter((df_com['subreddit']==\"wallstreetbets\")|(df_com['subreddit']==\"finance\")|\n",
    "                         (df_com['subreddit']==\"investing\")|(df_com['subreddit']==\"Frugal\")|\n",
    "                         (df_com['subreddit']==\"SecurityAnalysis\")|(df_com['subreddit']==\"RobinHood\")|\n",
    "                         (df_com['subreddit']==\"InvestmentClub\")|(df_com['subreddit']==\"Forex\")|\n",
    "                         (df_com['subreddit']==\"options\")|(df_com['subreddit']==\"CryptoCurrency\")|\n",
    "                         (df_com['subreddit']==\"StockMarket\")|(df_com['subreddit']==\"economy\")|\n",
    "                         (df_com['subreddit']==\"Economics\")|(df_com['subreddit']==\"GlobalMarkets\")|\n",
    "                         (df_com['subreddit']==\"dividends\")|(df_com['subreddit']==\"Daytrading\")|\n",
    "                         (df_com['subreddit']==\"algotrading\")|(df_com['subreddit']==\"pennystocks\")|\n",
    "                         (df_com['subreddit']==\"ValueInvesting\")|(df_com['subreddit']==\"Bogleheads\")|\n",
    "                         (df_com['subreddit']==\"RobinHoodPennyStocks\")|(df_com['subreddit']==\"RealDayTrading\")|\n",
    "                         (df_com['subreddit']==\"investingforbeginners\")|(df_com['subreddit']==\"business\")|\n",
    "                         (df_com['subreddit']==\"Flipping\")|(df_com['subreddit']==\"Entrepreneur\")|\n",
    "                         (df_com['subreddit']==\"wallstreet\")|(df_com['subreddit']==\"wallstreetdd\")|\n",
    "                         (df_com['subreddit']==\"MiddleClassFinance\")|(df_com['subreddit']==\"beermoney\")|\n",
    "                         (df_com['subreddit']==\"DropShipping101\")|(df_com['subreddit']==\"smallbusiness\")|\n",
    "                         (df_com['subreddit']==\"churning\")|(df_com['subreddit']==\"giftcardexchange\")|\n",
    "                         (df_com['subreddit']==\"personalfinance\")|(df_com['subreddit']==\"FinancialPlanning\")|\n",
    "                         (df_com['subreddit']==\"CRedit\")|(df_com['subreddit']==\"povertyfinance\")|\n",
    "                         (df_com['subreddit']==\"financialindipendence\")|(df_com['subreddit']==\"leanfire\")|\n",
    "                         (df_com['subreddit']==\"flatFIRE\")|(df_com['subreddit']==\"StudentLoans\"))\n",
    "\n",
    "print('la lunghezza del dataframe di submissions filtrato è ' + str(len(df_sub_wsb)))\n",
    "print('la lunghezza del dataframe di comments filtrato è ' + str(len(df_com_wsb)))"
   ]
  },
  {
   "cell_type": "code",
   "execution_count": null,
   "id": "a2bdd8b8",
   "metadata": {},
   "outputs": [],
   "source": [
    "# df_sub_wsb.write_ndjson(r'C:\\Tempor\\reddit\\dati_subreddit\\sub_2016_4.json')\n",
    "# df_com_wsb.write_ndjson(r'C:\\Tempor\\reddit\\dati_subreddit\\com_2016_4.json')"
   ]
  },
  {
   "cell_type": "code",
   "execution_count": 18,
   "id": "fa006350",
   "metadata": {},
   "outputs": [],
   "source": [
    "# df_sub_wsb=pl.read_ndjson(r'C:\\Tempor\\reddit\\dati_subreddit\\sub_2015_5.json')\n",
    "# df_com_wsb=pl.read_ndjson(r'C:\\Tempor\\reddit\\dati_subreddit\\com_2015_5.json')"
   ]
  },
  {
   "cell_type": "code",
   "execution_count": 19,
   "id": "f4a1f95e",
   "metadata": {},
   "outputs": [],
   "source": [
    "# df_sub_wsb"
   ]
  },
  {
   "cell_type": "code",
   "execution_count": 20,
   "id": "8bbcb973-753c-42eb-a4c2-352e6f33ed70",
   "metadata": {},
   "outputs": [
    {
     "name": "stdout",
     "output_type": "stream",
     "text": [
      "la lunghezza del dataframe di submissions filtrato è 1180\n",
      "la lunghezza del dataframe di comments filtrato è 2541\n",
      "la lunghezza del dataframe di submissions filtrato è 691\n",
      "la lunghezza del dataframe di comments filtrato è 3341\n"
     ]
    }
   ],
   "source": [
    "text=df_sub_wsb['body']\n",
    "text_2=df_com_wsb['body']\n",
    "# #Apple\n",
    "# A=np.array(text.str.contains('|'.join(['iphone','apple tv','apple ipad','apple id','apple mac','apple ipod',\n",
    "#                                        'apple macbook','apple itunes','apple trailers','apple support','apple mini',\n",
    "#                                        'macbook pro','apple ipod touch']), literal=False))\n",
    "# #Apple Inc.(qui metto quelle doppie: apple store, apple stock, apple computer)\n",
    "# C=np.array(text.str.contains('|'.join(['apple inc','apple history','apple inc, history','apple company','apple stock',\n",
    "#                                        'apple inc. stock','apple jobs', 'apple, inc.','apple store','apple computer',\n",
    "#                                        'steve jobs','apple information','apple mission statement','history of apple inc']), literal=False))\n",
    "\n",
    "\n",
    "# RES=np.array(text.str.contains('|'.join(['Apple','APPLE','AAPL','aapl'])))\n",
    "# RES2=np.array(text_2.str.contains('|'.join(['Apple','APPLE','AAPL','aapl'])))\n",
    "# # RES=np.logical_or(A,C)\n",
    "# df_sub_wsb_apple=df_sub_wsb.filter(RES)\n",
    "# print('la lunghezza del dataframe di submissions filtrato è ' + str(len(df_sub_wsb_apple)))\n",
    "\n",
    "# # authors=df_sub_wsb_apple['name'].to_list()\n",
    "# # Bool_vector=np.array(df_com_wsb['link_id'].str.contains('|'.join(authors)))\n",
    "# # df_com_wsb_apple=df_com_wsb.filter(Bool_vector)\n",
    "# df_com_wsb_apple=df_com_wsb.filter(RES2)\n",
    "# print('la lunghezza del dataframe di comments filtrato è ' + str(len(df_com_wsb_apple)))\n",
    "\n",
    "# df_com_wsb_apple=df_com_wsb_apple.drop(\"link_id\")\n",
    "# df_wsb_apple=pl.concat([df_sub_wsb_apple,df_com_wsb_apple])\n",
    "\n",
    "RES=np.array(text.str.contains('|'.join(['Amazon','AMAZON','AMZN','amzn'])))\n",
    "RES2=np.array(text_2.str.contains('|'.join(['Amazon','AMAZON','AMZN','amzn'])))\n",
    "df_sub_wsb_amazon=df_sub_wsb.filter(RES)\n",
    "print('la lunghezza del dataframe di submissions filtrato è ' + str(len(df_sub_wsb_amazon)))\n",
    "df_com_wsb_amazon=df_com_wsb.filter(RES2)\n",
    "print('la lunghezza del dataframe di comments filtrato è ' + str(len(df_com_wsb_amazon)))\n",
    "df_com_wsb_amazon=df_com_wsb_amazon.drop(\"link_id\")\n",
    "df_wsb_amazon=pl.concat([df_sub_wsb_amazon,df_com_wsb_amazon])\n",
    "\n",
    "# RES=np.array(text.str.contains('|'.join(['Google','GOOGLE','GOOG','goog','Alphabet','ALPHABET'])))\n",
    "# RES2=np.array(text_2.str.contains('|'.join(['Google','GOOGLE','GOOG','goog','Alphabet','ALPHABET'])))\n",
    "# df_sub_wsb_apple=df_sub_wsb.filter(RES)\n",
    "# print('la lunghezza del dataframe di submissions filtrato è ' + str(len(df_sub_wsb_apple)))\n",
    "# df_com_wsb_apple=df_com_wsb.filter(RES2)\n",
    "# print('la lunghezza del dataframe di comments filtrato è ' + str(len(df_com_wsb_apple)))\n",
    "# df_com_wsb_apple=df_com_wsb_apple.drop(\"link_id\")\n",
    "# df_wsb_google=pl.concat([df_sub_wsb_apple,df_com_wsb_apple])\n",
    "\n",
    "RES=np.array(text.str.contains('|'.join(['Google','GOOGLE','GOOG','goog'])))\n",
    "RES2=np.array(text_2.str.contains('|'.join(['Google','GOOGLE','GOOG','goog'])))\n",
    "df_sub_wsb_google=df_sub_wsb.filter(RES)\n",
    "print('la lunghezza del dataframe di submissions filtrato è ' + str(len(df_sub_wsb_google)))\n",
    "df_com_wsb_google=df_com_wsb.filter(RES2)\n",
    "print('la lunghezza del dataframe di comments filtrato è ' + str(len(df_com_wsb_google)))\n",
    "df_com_wsb_google=df_com_wsb_google.drop(\"link_id\")\n",
    "df_wsb_google=pl.concat([df_sub_wsb_google,df_com_wsb_google])"
   ]
  },
  {
   "cell_type": "code",
   "execution_count": 21,
   "id": "18ea1959",
   "metadata": {},
   "outputs": [],
   "source": [
    "# df_sub_wsb_amazon.write_ndjson(r'C:\\Tempor\\reddit\\network\\df_sub_wsb_amazon_5.json')\n",
    "# df_sub_wsb_google.write_ndjson(r'C:\\Tempor\\reddit\\network\\df_sub_wsb_google_5.json')"
   ]
  },
  {
   "cell_type": "code",
   "execution_count": 18,
   "id": "ce17da32",
   "metadata": {},
   "outputs": [],
   "source": [
    "# df_wsb_amazon=df_wsb_amazon.with_columns(pl.col('created_utc').str.to_datetime())\n",
    "# df_wsb_google=df_wsb_google.with_columns(pl.col('created_utc').str.to_datetime())"
   ]
  },
  {
   "cell_type": "code",
   "execution_count": 17,
   "id": "bf97cfa1-0a0e-4b7a-ab77-a0bbc96dea1d",
   "metadata": {},
   "outputs": [],
   "source": [
    "# df_wsb_apple=df_wsb_apple.with_columns(pl.col(\"created_utc\").dt.week().alias(\"week\"))\n",
    "\n",
    "df_wsb_amazon=df_wsb_amazon.with_columns(pl.col(\"created_utc\").dt.week().alias(\"week\"))\n",
    "df_wsb_google=df_wsb_google.with_columns(pl.col(\"created_utc\").dt.week().alias(\"week\"))"
   ]
  },
  {
   "cell_type": "code",
   "execution_count": 18,
   "id": "1370728c-ab2e-42a2-b792-d994696226af",
   "metadata": {},
   "outputs": [],
   "source": [
    "# week_list=df_wsb_apple.partition_by([\"week\"])\n",
    "week_list_amazon=df_wsb_amazon.partition_by([\"week\"])\n",
    "week_list_google=df_wsb_google.partition_by([\"week\"])"
   ]
  },
  {
   "cell_type": "code",
   "execution_count": 19,
   "id": "fcf4bdda-dcb2-43b3-be04-41d0e89fcd32",
   "metadata": {},
   "outputs": [],
   "source": [
    "# list=week_list[1]\n",
    "# list"
   ]
  },
  {
   "cell_type": "code",
   "execution_count": 20,
   "id": "871eaa70",
   "metadata": {},
   "outputs": [],
   "source": [
    "# list"
   ]
  },
  {
   "cell_type": "code",
   "execution_count": 21,
   "id": "30f8c5a6",
   "metadata": {},
   "outputs": [],
   "source": [
    "# len(list)"
   ]
  },
  {
   "cell_type": "code",
   "execution_count": 22,
   "id": "e65ba646",
   "metadata": {},
   "outputs": [],
   "source": [
    "# list.write_ndjson(r'C:\\Tempor\\reddit\\sentiment_data\\apple\\2015_2_6.json')"
   ]
  },
  {
   "cell_type": "code",
   "execution_count": 23,
   "id": "a13c4d75-63ee-4347-8606-e21980c417d9",
   "metadata": {},
   "outputs": [],
   "source": [
    "# for lists in week_list:\n",
    "#     lists.write_ndjson(r'C:\\Tempor\\reddit\\sentiment_data\\2015_10_'+str(lists['week'][0])+'.json')\n",
    "\n",
    "for lists in week_list_amazon:\n",
    "    lists.write_ndjson(r'C:\\Tempor\\reddit\\sentiment_data\\amazon\\2016_4_'+str(lists['week'][0])+'.json')\n",
    "\n",
    "for lists in week_list_google:\n",
    "    lists.write_ndjson(r'C:\\Tempor\\reddit\\sentiment_data\\google\\2016_4_'+str(lists['week'][0])+'.json')"
   ]
  },
  {
   "cell_type": "markdown",
   "id": "8f1f3527",
   "metadata": {},
   "source": [
    "Concatenate the same weeks that are in different months"
   ]
  },
  {
   "cell_type": "code",
   "execution_count": 115,
   "id": "eaf49f3e-07b4-4937-93ac-02f97553c133",
   "metadata": {},
   "outputs": [],
   "source": [
    "a_week_list_set=pl.read_ndjson(r'C:\\Tempor\\reddit\\sentiment_data\\amazon\\2016_5_22.json')\n",
    "a_week_list_ott=pl.read_ndjson(r'C:\\Tempor\\reddit\\sentiment_data\\amazon\\2016_6_22.json')\n",
    "\n",
    "g_week_list_set=pl.read_ndjson(r'C:\\Tempor\\reddit\\sentiment_data\\google\\2016_5_22.json')\n",
    "g_week_list_ott=pl.read_ndjson(r'C:\\Tempor\\reddit\\sentiment_data\\google\\2016_6_22.json')"
   ]
  },
  {
   "cell_type": "code",
   "execution_count": 116,
   "id": "629b3d87",
   "metadata": {},
   "outputs": [
    {
     "data": {
      "text/plain": [
       "600"
      ]
     },
     "execution_count": 116,
     "metadata": {},
     "output_type": "execute_result"
    }
   ],
   "source": [
    "len(a_week_list_ott)"
   ]
  },
  {
   "cell_type": "code",
   "execution_count": 117,
   "id": "406bbbb0-5b8c-49b3-858f-81360749ab64",
   "metadata": {},
   "outputs": [],
   "source": [
    "a_week_list5=pl.concat([a_week_list_set,a_week_list_ott])\n",
    "\n",
    "g_week_list5=pl.concat([g_week_list_set,g_week_list_ott])"
   ]
  },
  {
   "cell_type": "code",
   "execution_count": 118,
   "id": "36cb3678",
   "metadata": {},
   "outputs": [
    {
     "data": {
      "text/plain": [
       "1116"
      ]
     },
     "execution_count": 118,
     "metadata": {},
     "output_type": "execute_result"
    }
   ],
   "source": [
    "len(g_week_list5)"
   ]
  },
  {
   "cell_type": "code",
   "execution_count": null,
   "id": "69444ec8",
   "metadata": {},
   "outputs": [],
   "source": [
    "# Now change the numbers *****************"
   ]
  },
  {
   "cell_type": "code",
   "execution_count": 119,
   "id": "2becec44-4f9d-40e6-823c-534bc55d99f0",
   "metadata": {},
   "outputs": [],
   "source": [
    "a_week_list5.write_ndjson(r'C:\\Tempor\\reddit\\sentiment_data\\amazon\\2016_6_22.json')\n",
    "\n",
    "g_week_list5.write_ndjson(r'C:\\Tempor\\reddit\\sentiment_data\\google\\2016_6_22.json')"
   ]
  },
  {
   "cell_type": "code",
   "execution_count": 120,
   "id": "c33ad884-5949-431d-a080-ee52ab20fcf9",
   "metadata": {},
   "outputs": [
    {
     "data": {
      "text/plain": [
       "1116"
      ]
     },
     "execution_count": 120,
     "metadata": {},
     "output_type": "execute_result"
    }
   ],
   "source": [
    "prova=pl.read_ndjson(r'C:\\Tempor\\reddit\\sentiment_data\\google\\2016_6_22.json')\n",
    "len(prova)"
   ]
  },
  {
   "cell_type": "code",
   "execution_count": null,
   "id": "96db6e1b",
   "metadata": {},
   "outputs": [],
   "source": []
  }
 ],
 "metadata": {
  "kernelspec": {
   "display_name": "Python 3 (ipykernel)",
   "language": "python",
   "name": "python3"
  },
  "language_info": {
   "codemirror_mode": {
    "name": "ipython",
    "version": 3
   },
   "file_extension": ".py",
   "mimetype": "text/x-python",
   "name": "python",
   "nbconvert_exporter": "python",
   "pygments_lexer": "ipython3",
   "version": "3.12.1"
  }
 },
 "nbformat": 4,
 "nbformat_minor": 5
}
