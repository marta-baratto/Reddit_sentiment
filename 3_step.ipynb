{
 "cells": [
  {
   "cell_type": "code",
   "execution_count": null,
   "id": "2d2caab6-d463-4e13-9dbb-a2e868de6e9f",
   "metadata": {},
   "outputs": [],
   "source": [
    "# Import libraries\n",
    " \n",
    "import transformers as ts\n",
    "from datasets import Dataset\n",
    "from transformers import AutoTokenizer, AutoModel, AutoModelForSequenceClassification\n",
    "from torch.optim import AdamW\n",
    "import torch.nn as nn\n",
    "import pandas as pd\n",
    "import numpy as np\n",
    "import torch\n",
    "from torch.utils.data import DataLoader\n",
    "from tqdm import tqdm"
   ]
  },
  {
   "cell_type": "code",
   "execution_count": null,
   "id": "47a53f82-115d-4cff-9648-0799f2007e5a",
   "metadata": {},
   "outputs": [],
   "source": [
    "def set_seed(seed = 42):  \n",
    "    np.random.seed(seed)\n",
    "    torch.manual_seed(seed)\n",
    "    torch.cuda.manual_seed(seed)"
   ]
  },
  {
   "cell_type": "code",
   "execution_count": null,
   "id": "7e1b7d72-7db5-4cb9-a86c-42e2650a8c9a",
   "metadata": {},
   "outputs": [],
   "source": [
    "# Function to classify using the self-trained model\n",
    "\n",
    "def ZS_self(data, batch_size = 5):\n",
    "\n",
    "    set_seed()\n",
    "\n",
    "    tokenizer = AutoTokenizer.from_pretrained(\"distilbert/distilbert-base-uncased\")\n",
    "    model=AutoModelForSequenceClassification.from_pretrained(r'C:\\Tempor\\reddit\\Classification_Model', num_labels=2)\n",
    "\n",
    "    dati = Dataset.from_pandas(data[['text']])   # pandas\n",
    "    try:\n",
    "        dati = dati.remove_columns('__index_level_0__')   # colpa (a volte) di pandas\n",
    "    except:\n",
    "        pass\n",
    "\n",
    "    def tokenize_function(examples):\n",
    "        return tokenizer(examples[\"text\"], padding=True, max_length=512, truncation=True, return_tensors=\"pt\")\n",
    "    \n",
    "    tokenized_text = dati.map(tokenize_function, batched=True)\n",
    "    tokenized_text = tokenized_text.remove_columns(\"text\")\n",
    "    tokenized_text.set_format(\"torch\")\n",
    "    text_loader = DataLoader(tokenized_text, batch_size=batch_size, num_workers=0, shuffle=False)\n",
    "    \n",
    "    num_test_steps = len(text_loader)\n",
    "    tqdm._instances.clear()\n",
    "    progress_bar = tqdm(range(num_test_steps))\n",
    "\n",
    "    device = torch.device(\"cuda\") if torch.cuda.is_available() else torch.device(\"cpu\")\n",
    "\n",
    "    preds = []\n",
    "    model.eval()\n",
    "    for batch in text_loader:\n",
    "        # labels = batch.pop('labels')\n",
    "        batch = {k: v.to(device) for k, v in batch.items()}\n",
    "        with torch.no_grad():\n",
    "            outputs = model(**batch)\n",
    "        logits = outputs.logits\n",
    "        predictions = torch.argmax(logits, dim=-1)\n",
    "        preds.append(predictions.cpu().numpy())\n",
    "        progress_bar.update(1)\n",
    "    preds = np.hstack(preds)\n",
    "    \n",
    "    return preds\n"
   ]
  },
  {
   "cell_type": "markdown",
   "id": "72501f92",
   "metadata": {},
   "source": [
    "******DATA UPLOAD AND CLASSIFICATION******"
   ]
  },
  {
   "cell_type": "code",
   "execution_count": null,
   "id": "5cc8a3eb",
   "metadata": {},
   "outputs": [
    {
     "data": {
      "application/vnd.jupyter.widget-view+json": {
       "model_id": "09e450f0043a4695b8b41e16b2b4b845",
       "version_major": 2,
       "version_minor": 0
      },
      "text/plain": [
       "Map:   0%|          | 0/690 [00:00<?, ? examples/s]"
      ]
     },
     "metadata": {},
     "output_type": "display_data"
    },
    {
     "name": "stderr",
     "output_type": "stream",
     "text": [
      "100%|██████████| 138/138 [05:22<00:00,  2.34s/it]\n"
     ]
    },
    {
     "data": {
      "application/vnd.jupyter.widget-view+json": {
       "model_id": "04ca645cb3af4d84af9235bfa4cac32f",
       "version_major": 2,
       "version_minor": 0
      },
      "text/plain": [
       "Map:   0%|          | 0/933 [00:00<?, ? examples/s]"
      ]
     },
     "metadata": {},
     "output_type": "display_data"
    },
    {
     "name": "stderr",
     "output_type": "stream",
     "text": [
      "100%|██████████| 187/187 [07:31<00:00,  2.42s/it]\n"
     ]
    }
   ],
   "source": [
    "data_pandas=pd.read_json(r\"C:\\Tempor\\Reddit\\sentiment_data\\amazon\\2016_3_10.json\", lines=True)\n",
    "data_pandas_g=pd.read_json(r\"C:\\Tempor\\Reddit\\sentiment_data\\google\\2016_3_10.json\", lines=True)\n",
    "\n",
    "data_pandas=data_pandas.rename(columns={\"body\": \"text\"})\n",
    "data_pandas_g=data_pandas_g.rename(columns={\"body\": \"text\"})\n",
    "\n",
    "\n",
    "predictions=ZS_self(data_pandas)\n",
    "\n",
    "predictions_g=ZS_self(data_pandas_g)\n",
    "\n",
    "#Positive: 0, Negative: 1\n",
    "\n",
    "p=pd.DataFrame(predictions.tolist(), columns=['Sentiment'])\n",
    "final_data=data_pandas.assign(Sentiment=p.values)\n",
    "final_data.to_json(r\"C:\\Tempor\\Reddit\\sentiment_data\\amazon_a\\2016_3_10.json\")\n",
    "\n",
    "p_g=pd.DataFrame(predictions_g.tolist(), columns=['Sentiment'])\n",
    "final_data_g=data_pandas_g.assign(Sentiment=p_g.values)\n",
    "final_data_g.to_json(r\"C:\\Tempor\\Reddit\\sentiment_data\\google_a\\2016_3_10.json\")\n",
    "\n",
    "# data=pd.read_json(r\"C:\\Tempor\\Reddit\\sentiment_data\\google\\2015_4_18.json\")\n",
    "# data"
   ]
  },
  {
   "cell_type": "code",
   "execution_count": null,
   "id": "7ea08dab",
   "metadata": {},
   "outputs": [
    {
     "data": {
      "application/vnd.jupyter.widget-view+json": {
       "model_id": "c6cbb1ae27ef449395cc08b9ac2f5878",
       "version_major": 2,
       "version_minor": 0
      },
      "text/plain": [
       "Map:   0%|          | 0/723 [00:00<?, ? examples/s]"
      ]
     },
     "metadata": {},
     "output_type": "display_data"
    },
    {
     "name": "stderr",
     "output_type": "stream",
     "text": [
      "100%|██████████| 145/145 [05:53<00:00,  2.44s/it]\n"
     ]
    },
    {
     "data": {
      "application/vnd.jupyter.widget-view+json": {
       "model_id": "d29cbbf2f63e467cae64b28995baefda",
       "version_major": 2,
       "version_minor": 0
      },
      "text/plain": [
       "Map:   0%|          | 0/1024 [00:00<?, ? examples/s]"
      ]
     },
     "metadata": {},
     "output_type": "display_data"
    },
    {
     "name": "stderr",
     "output_type": "stream",
     "text": [
      "100%|██████████| 205/205 [08:17<00:00,  2.43s/it]\n"
     ]
    }
   ],
   "source": [
    "data_pandas=pd.read_json(r\"C:\\Tempor\\Reddit\\sentiment_data\\amazon\\2016_3_9.json\", lines=True)\n",
    "data_pandas_g=pd.read_json(r\"C:\\Tempor\\Reddit\\sentiment_data\\google\\2016_3_9.json\", lines=True)\n",
    "\n",
    "data_pandas=data_pandas.rename(columns={\"body\": \"text\"})\n",
    "data_pandas_g=data_pandas_g.rename(columns={\"body\": \"text\"})\n",
    "\n",
    "# data_pandas_g\n",
    "\n",
    "predictions=ZS_self(data_pandas)\n",
    "\n",
    "predictions_g=ZS_self(data_pandas_g)\n",
    "\n",
    "#Positive: 0, Negative: 1\n",
    "\n",
    "# len(predictions_g)\n",
    "\n",
    "p=pd.DataFrame(predictions.tolist(), columns=['Sentiment'])\n",
    "final_data=data_pandas.assign(Sentiment=p.values)\n",
    "final_data.to_json(r\"C:\\Tempor\\Reddit\\sentiment_data\\amazon_a\\2016_3_9.json\")\n",
    "\n",
    "p_g=pd.DataFrame(predictions_g.tolist(), columns=['Sentiment'])\n",
    "final_data_g=data_pandas_g.assign(Sentiment=p_g.values)\n",
    "final_data_g.to_json(r\"C:\\Tempor\\Reddit\\sentiment_data\\google_a\\2016_3_9.json\")\n",
    "\n",
    "# data=pd.read_json(r\"C:\\Tempor\\Reddit\\sentiment_data\\google\\2015_4_18.json\")\n",
    "# data"
   ]
  },
  {
   "cell_type": "code",
   "execution_count": null,
   "id": "b18d401e",
   "metadata": {},
   "outputs": [
    {
     "data": {
      "application/vnd.jupyter.widget-view+json": {
       "model_id": "be36f14128b444719f5621a6502d1cc4",
       "version_major": 2,
       "version_minor": 0
      },
      "text/plain": [
       "Map:   0%|          | 0/464 [00:00<?, ? examples/s]"
      ]
     },
     "metadata": {},
     "output_type": "display_data"
    },
    {
     "name": "stderr",
     "output_type": "stream",
     "text": [
      "100%|██████████| 93/93 [03:36<00:00,  2.33s/it]\n"
     ]
    },
    {
     "data": {
      "application/vnd.jupyter.widget-view+json": {
       "model_id": "cd392ed0bf5548708871aec67ede6d2d",
       "version_major": 2,
       "version_minor": 0
      },
      "text/plain": [
       "Map:   0%|          | 0/769 [00:00<?, ? examples/s]"
      ]
     },
     "metadata": {},
     "output_type": "display_data"
    },
    {
     "name": "stderr",
     "output_type": "stream",
     "text": [
      "100%|██████████| 154/154 [06:10<00:00,  2.41s/it]\n"
     ]
    }
   ],
   "source": [
    "data_pandas=pd.read_json(r\"C:\\Tempor\\Reddit\\sentiment_data\\amazon\\2016_6_26.json\", lines=True)\n",
    "data_pandas_g=pd.read_json(r\"C:\\Tempor\\Reddit\\sentiment_data\\google\\2016_6_26.json\", lines=True)\n",
    "\n",
    "data_pandas=data_pandas.rename(columns={\"body\": \"text\"})\n",
    "data_pandas_g=data_pandas_g.rename(columns={\"body\": \"text\"})\n",
    "\n",
    "# data_pandas_g\n",
    "\n",
    "predictions=ZS_self(data_pandas)\n",
    "\n",
    "predictions_g=ZS_self(data_pandas_g)\n",
    "\n",
    "#Positive: 0, Negative: 1\n",
    "\n",
    "# len(predictions_g)\n",
    "\n",
    "p=pd.DataFrame(predictions.tolist(), columns=['Sentiment'])\n",
    "final_data=data_pandas.assign(Sentiment=p.values)\n",
    "final_data.to_json(r\"C:\\Tempor\\Reddit\\sentiment_data\\amazon_a\\2016_6_26.json\")\n",
    "\n",
    "p_g=pd.DataFrame(predictions_g.tolist(), columns=['Sentiment'])\n",
    "final_data_g=data_pandas_g.assign(Sentiment=p_g.values)\n",
    "final_data_g.to_json(r\"C:\\Tempor\\Reddit\\sentiment_data\\google_a\\2016_6_26.json\")\n",
    "\n",
    "# data=pd.read_json(r\"C:\\Tempor\\Reddit\\sentiment_data\\google\\2015_4_18.json\")\n",
    "# data"
   ]
  },
  {
   "cell_type": "code",
   "execution_count": null,
   "id": "b60f774d",
   "metadata": {},
   "outputs": [
    {
     "data": {
      "application/vnd.jupyter.widget-view+json": {
       "model_id": "a87ba65e34714337a8e468aa8dec21a3",
       "version_major": 2,
       "version_minor": 0
      },
      "text/plain": [
       "Map:   0%|          | 0/791 [00:00<?, ? examples/s]"
      ]
     },
     "metadata": {},
     "output_type": "display_data"
    },
    {
     "name": "stderr",
     "output_type": "stream",
     "text": [
      "100%|██████████| 159/159 [06:46<00:00,  2.56s/it]\n"
     ]
    },
    {
     "data": {
      "application/vnd.jupyter.widget-view+json": {
       "model_id": "8c3fbbc286724676b445701252c7894b",
       "version_major": 2,
       "version_minor": 0
      },
      "text/plain": [
       "Map:   0%|          | 0/1079 [00:00<?, ? examples/s]"
      ]
     },
     "metadata": {},
     "output_type": "display_data"
    },
    {
     "name": "stderr",
     "output_type": "stream",
     "text": [
      "100%|██████████| 216/216 [09:14<00:00,  2.57s/it]\n"
     ]
    }
   ],
   "source": [
    "data_pandas=pd.read_json(r\"C:\\Tempor\\Reddit\\sentiment_data\\amazon\\2016_6_25.json\", lines=True)\n",
    "data_pandas_g=pd.read_json(r\"C:\\Tempor\\Reddit\\sentiment_data\\google\\2016_6_25.json\", lines=True)\n",
    "\n",
    "data_pandas=data_pandas.rename(columns={\"body\": \"text\"})\n",
    "data_pandas_g=data_pandas_g.rename(columns={\"body\": \"text\"})\n",
    "\n",
    "# data_pandas_g\n",
    "\n",
    "predictions=ZS_self(data_pandas)\n",
    "\n",
    "predictions_g=ZS_self(data_pandas_g)\n",
    "\n",
    "#Positive: 0, Negative: 1\n",
    "\n",
    "# len(predictions_g)\n",
    "\n",
    "p=pd.DataFrame(predictions.tolist(), columns=['Sentiment'])\n",
    "final_data=data_pandas.assign(Sentiment=p.values)\n",
    "final_data.to_json(r\"C:\\Tempor\\Reddit\\sentiment_data\\amazon_a\\2016_6_25.json\")\n",
    "\n",
    "p_g=pd.DataFrame(predictions_g.tolist(), columns=['Sentiment'])\n",
    "final_data_g=data_pandas_g.assign(Sentiment=p_g.values)\n",
    "final_data_g.to_json(r\"C:\\Tempor\\Reddit\\sentiment_data\\google_a\\2016_6_25.json\")\n",
    "\n",
    "# data=pd.read_json(r\"C:\\Tempor\\Reddit\\sentiment_data\\google\\2015_4_18.json\")\n",
    "# data"
   ]
  },
  {
   "cell_type": "code",
   "execution_count": null,
   "id": "75251d48",
   "metadata": {},
   "outputs": [
    {
     "data": {
      "application/vnd.jupyter.widget-view+json": {
       "model_id": "3d72332e16754c19ac044c1b6fe0873b",
       "version_major": 2,
       "version_minor": 0
      },
      "text/plain": [
       "Map:   0%|          | 0/796 [00:00<?, ? examples/s]"
      ]
     },
     "metadata": {},
     "output_type": "display_data"
    },
    {
     "name": "stderr",
     "output_type": "stream",
     "text": [
      "100%|██████████| 160/160 [06:24<00:00,  2.40s/it]\n"
     ]
    },
    {
     "data": {
      "application/vnd.jupyter.widget-view+json": {
       "model_id": "ed68462e4af6450e9ed27f4891470aee",
       "version_major": 2,
       "version_minor": 0
      },
      "text/plain": [
       "Map:   0%|          | 0/1077 [00:00<?, ? examples/s]"
      ]
     },
     "metadata": {},
     "output_type": "display_data"
    },
    {
     "name": "stderr",
     "output_type": "stream",
     "text": [
      "100%|██████████| 216/216 [08:40<00:00,  2.41s/it]\n"
     ]
    }
   ],
   "source": [
    "data_pandas=pd.read_json(r\"C:\\Tempor\\Reddit\\sentiment_data\\amazon\\2016_6_24.json\", lines=True)\n",
    "data_pandas_g=pd.read_json(r\"C:\\Tempor\\Reddit\\sentiment_data\\google\\2016_6_24.json\", lines=True)\n",
    "\n",
    "data_pandas=data_pandas.rename(columns={\"body\": \"text\"})\n",
    "data_pandas_g=data_pandas_g.rename(columns={\"body\": \"text\"})\n",
    "\n",
    "# data_pandas_g\n",
    "\n",
    "predictions=ZS_self(data_pandas)\n",
    "\n",
    "predictions_g=ZS_self(data_pandas_g)\n",
    "\n",
    "#Positive: 0, Negative: 1\n",
    "\n",
    "# len(predictions_g)\n",
    "\n",
    "p=pd.DataFrame(predictions.tolist(), columns=['Sentiment'])\n",
    "final_data=data_pandas.assign(Sentiment=p.values)\n",
    "final_data.to_json(r\"C:\\Tempor\\Reddit\\sentiment_data\\amazon_a\\2016_6_24.json\")\n",
    "\n",
    "p_g=pd.DataFrame(predictions_g.tolist(), columns=['Sentiment'])\n",
    "final_data_g=data_pandas_g.assign(Sentiment=p_g.values)\n",
    "final_data_g.to_json(r\"C:\\Tempor\\Reddit\\sentiment_data\\google_a\\2016_6_24.json\")\n",
    "\n",
    "# data=pd.read_json(r\"C:\\Tempor\\Reddit\\sentiment_data\\google\\2015_4_18.json\")\n",
    "# data"
   ]
  },
  {
   "cell_type": "code",
   "execution_count": null,
   "id": "f4285e93",
   "metadata": {},
   "outputs": [
    {
     "data": {
      "application/vnd.jupyter.widget-view+json": {
       "model_id": "6356b2054b7141698e0b058c1d5a37ad",
       "version_major": 2,
       "version_minor": 0
      },
      "text/plain": [
       "Map:   0%|          | 0/802 [00:00<?, ? examples/s]"
      ]
     },
     "metadata": {},
     "output_type": "display_data"
    },
    {
     "name": "stderr",
     "output_type": "stream",
     "text": [
      "100%|██████████| 161/161 [06:26<00:00,  2.40s/it]\n"
     ]
    },
    {
     "data": {
      "application/vnd.jupyter.widget-view+json": {
       "model_id": "1bc4e5d1b7b745f4b9c24d0495ce2c80",
       "version_major": 2,
       "version_minor": 0
      },
      "text/plain": [
       "Map:   0%|          | 0/1102 [00:00<?, ? examples/s]"
      ]
     },
     "metadata": {},
     "output_type": "display_data"
    },
    {
     "name": "stderr",
     "output_type": "stream",
     "text": [
      "100%|██████████| 221/221 [08:51<00:00,  2.41s/it]\n"
     ]
    }
   ],
   "source": [
    "data_pandas=pd.read_json(r\"C:\\Tempor\\Reddit\\sentiment_data\\amazon\\2016_6_23.json\", lines=True)\n",
    "data_pandas_g=pd.read_json(r\"C:\\Tempor\\Reddit\\sentiment_data\\google\\2016_6_23.json\", lines=True)\n",
    "\n",
    "data_pandas=data_pandas.rename(columns={\"body\": \"text\"})\n",
    "data_pandas_g=data_pandas_g.rename(columns={\"body\": \"text\"})\n",
    "\n",
    "# data_pandas_g\n",
    "\n",
    "predictions=ZS_self(data_pandas)\n",
    "\n",
    "predictions_g=ZS_self(data_pandas_g)\n",
    "\n",
    "#Positive: 0, Negative: 1\n",
    "\n",
    "# len(predictions_g)\n",
    "\n",
    "p=pd.DataFrame(predictions.tolist(), columns=['Sentiment'])\n",
    "final_data=data_pandas.assign(Sentiment=p.values)\n",
    "final_data.to_json(r\"C:\\Tempor\\Reddit\\sentiment_data\\amazon_a\\2016_6_23.json\")\n",
    "\n",
    "p_g=pd.DataFrame(predictions_g.tolist(), columns=['Sentiment'])\n",
    "final_data_g=data_pandas_g.assign(Sentiment=p_g.values)\n",
    "final_data_g.to_json(r\"C:\\Tempor\\Reddit\\sentiment_data\\google_a\\2016_6_23.json\")\n",
    "\n",
    "# data=pd.read_json(r\"C:\\Tempor\\Reddit\\sentiment_data\\google\\2015_4_18.json\")\n",
    "# data"
   ]
  },
  {
   "cell_type": "code",
   "execution_count": null,
   "id": "2217ce07",
   "metadata": {},
   "outputs": [
    {
     "data": {
      "application/vnd.jupyter.widget-view+json": {
       "model_id": "31d51b77b89d49388107a22956d287ee",
       "version_major": 2,
       "version_minor": 0
      },
      "text/plain": [
       "Map:   0%|          | 0/806 [00:00<?, ? examples/s]"
      ]
     },
     "metadata": {},
     "output_type": "display_data"
    },
    {
     "name": "stderr",
     "output_type": "stream",
     "text": [
      "100%|██████████| 162/162 [06:29<00:00,  2.40s/it]\n"
     ]
    },
    {
     "data": {
      "application/vnd.jupyter.widget-view+json": {
       "model_id": "b6e7130e8292401999dac9ec94ad04af",
       "version_major": 2,
       "version_minor": 0
      },
      "text/plain": [
       "Map:   0%|          | 0/1116 [00:00<?, ? examples/s]"
      ]
     },
     "metadata": {},
     "output_type": "display_data"
    },
    {
     "name": "stderr",
     "output_type": "stream",
     "text": [
      "100%|██████████| 224/224 [08:50<00:00,  2.37s/it]\n"
     ]
    }
   ],
   "source": [
    "data_pandas=pd.read_json(r\"C:\\Tempor\\Reddit\\sentiment_data\\amazon\\2016_6_22.json\", lines=True)\n",
    "data_pandas_g=pd.read_json(r\"C:\\Tempor\\Reddit\\sentiment_data\\google\\2016_6_22.json\", lines=True)\n",
    "\n",
    "data_pandas=data_pandas.rename(columns={\"body\": \"text\"})\n",
    "data_pandas_g=data_pandas_g.rename(columns={\"body\": \"text\"})\n",
    "\n",
    "# data_pandas_g\n",
    "\n",
    "predictions=ZS_self(data_pandas)\n",
    "\n",
    "predictions_g=ZS_self(data_pandas_g)\n",
    "\n",
    "#Positive: 0, Negative: 1\n",
    "\n",
    "# len(predictions_g)\n",
    "\n",
    "p=pd.DataFrame(predictions.tolist(), columns=['Sentiment'])\n",
    "final_data=data_pandas.assign(Sentiment=p.values)\n",
    "final_data.to_json(r\"C:\\Tempor\\Reddit\\sentiment_data\\amazon_a\\2016_6_22.json\")\n",
    "\n",
    "p_g=pd.DataFrame(predictions_g.tolist(), columns=['Sentiment'])\n",
    "final_data_g=data_pandas_g.assign(Sentiment=p_g.values)\n",
    "final_data_g.to_json(r\"C:\\Tempor\\Reddit\\sentiment_data\\google_a\\2016_6_22.json\")\n",
    "\n",
    "# data=pd.read_json(r\"C:\\Tempor\\Reddit\\sentiment_data\\google\\2015_4_18.json\")\n",
    "# data"
   ]
  },
  {
   "cell_type": "code",
   "execution_count": null,
   "id": "13c62ebb",
   "metadata": {},
   "outputs": [
    {
     "data": {
      "application/vnd.jupyter.widget-view+json": {
       "model_id": "fe428ee5be4b459689a59e4da47979a4",
       "version_major": 2,
       "version_minor": 0
      },
      "text/plain": [
       "Map:   0%|          | 0/892 [00:00<?, ? examples/s]"
      ]
     },
     "metadata": {},
     "output_type": "display_data"
    },
    {
     "name": "stderr",
     "output_type": "stream",
     "text": [
      "100%|██████████| 179/179 [07:11<00:00,  2.41s/it]\n"
     ]
    },
    {
     "data": {
      "application/vnd.jupyter.widget-view+json": {
       "model_id": "e7f256d494174948ac8440700c5f7ecd",
       "version_major": 2,
       "version_minor": 0
      },
      "text/plain": [
       "Map:   0%|          | 0/1158 [00:00<?, ? examples/s]"
      ]
     },
     "metadata": {},
     "output_type": "display_data"
    },
    {
     "name": "stderr",
     "output_type": "stream",
     "text": [
      "100%|██████████| 232/232 [09:09<00:00,  2.37s/it]\n"
     ]
    }
   ],
   "source": [
    "data_pandas=pd.read_json(r\"C:\\Tempor\\Reddit\\sentiment_data\\amazon\\2016_5_21.json\", lines=True)\n",
    "data_pandas_g=pd.read_json(r\"C:\\Tempor\\Reddit\\sentiment_data\\google\\2016_5_21.json\", lines=True)\n",
    "\n",
    "data_pandas=data_pandas.rename(columns={\"body\": \"text\"})\n",
    "data_pandas_g=data_pandas_g.rename(columns={\"body\": \"text\"})\n",
    "\n",
    "# data_pandas_g\n",
    "\n",
    "predictions=ZS_self(data_pandas)\n",
    "\n",
    "predictions_g=ZS_self(data_pandas_g)\n",
    "\n",
    "#Positive: 0, Negative: 1\n",
    "\n",
    "# len(predictions_g)\n",
    "\n",
    "p=pd.DataFrame(predictions.tolist(), columns=['Sentiment'])\n",
    "final_data=data_pandas.assign(Sentiment=p.values)\n",
    "final_data.to_json(r\"C:\\Tempor\\Reddit\\sentiment_data\\amazon_a\\2016_5_21.json\")\n",
    "\n",
    "p_g=pd.DataFrame(predictions_g.tolist(), columns=['Sentiment'])\n",
    "final_data_g=data_pandas_g.assign(Sentiment=p_g.values)\n",
    "final_data_g.to_json(r\"C:\\Tempor\\Reddit\\sentiment_data\\google_a\\2016_5_21.json\")\n",
    "\n",
    "# data=pd.read_json(r\"C:\\Tempor\\Reddit\\sentiment_data\\google\\2015_4_18.json\")\n",
    "# data"
   ]
  },
  {
   "cell_type": "code",
   "execution_count": null,
   "id": "5be9e4f7",
   "metadata": {},
   "outputs": [
    {
     "data": {
      "application/vnd.jupyter.widget-view+json": {
       "model_id": "d1b91fc1131f4c44b84a053cd0038dc2",
       "version_major": 2,
       "version_minor": 0
      },
      "text/plain": [
       "Map:   0%|          | 0/997 [00:00<?, ? examples/s]"
      ]
     },
     "metadata": {},
     "output_type": "display_data"
    },
    {
     "name": "stderr",
     "output_type": "stream",
     "text": [
      "100%|██████████| 200/200 [08:01<00:00,  2.41s/it]\n"
     ]
    },
    {
     "data": {
      "application/vnd.jupyter.widget-view+json": {
       "model_id": "b979238bd63b448f92dcb3b66d86bfe3",
       "version_major": 2,
       "version_minor": 0
      },
      "text/plain": [
       "Map:   0%|          | 0/1197 [00:00<?, ? examples/s]"
      ]
     },
     "metadata": {},
     "output_type": "display_data"
    },
    {
     "name": "stderr",
     "output_type": "stream",
     "text": [
      "100%|██████████| 240/240 [09:28<00:00,  2.37s/it]\n"
     ]
    }
   ],
   "source": [
    "data_pandas=pd.read_json(r\"C:\\Tempor\\Reddit\\sentiment_data\\amazon\\2016_5_20.json\", lines=True)\n",
    "data_pandas_g=pd.read_json(r\"C:\\Tempor\\Reddit\\sentiment_data\\google\\2016_5_20.json\", lines=True)\n",
    "\n",
    "data_pandas=data_pandas.rename(columns={\"body\": \"text\"})\n",
    "data_pandas_g=data_pandas_g.rename(columns={\"body\": \"text\"})\n",
    "\n",
    "# data_pandas_g\n",
    "\n",
    "predictions=ZS_self(data_pandas)\n",
    "\n",
    "predictions_g=ZS_self(data_pandas_g)\n",
    "\n",
    "#Positive: 0, Negative: 1\n",
    "\n",
    "# len(predictions_g)\n",
    "\n",
    "p=pd.DataFrame(predictions.tolist(), columns=['Sentiment'])\n",
    "final_data=data_pandas.assign(Sentiment=p.values)\n",
    "final_data.to_json(r\"C:\\Tempor\\Reddit\\sentiment_data\\amazon_a\\2016_5_20.json\")\n",
    "\n",
    "p_g=pd.DataFrame(predictions_g.tolist(), columns=['Sentiment'])\n",
    "final_data_g=data_pandas_g.assign(Sentiment=p_g.values)\n",
    "final_data_g.to_json(r\"C:\\Tempor\\Reddit\\sentiment_data\\google_a\\2016_5_20.json\")\n",
    "\n",
    "# data=pd.read_json(r\"C:\\Tempor\\Reddit\\sentiment_data\\google\\2015_4_18.json\")\n",
    "# data"
   ]
  },
  {
   "cell_type": "code",
   "execution_count": null,
   "metadata": {},
   "outputs": [
    {
     "data": {
      "application/vnd.jupyter.widget-view+json": {
       "model_id": "b807d468955e4cf7a7b371aceeeadeb3",
       "version_major": 2,
       "version_minor": 0
      },
      "text/plain": [
       "Map:   0%|          | 0/1463 [00:00<?, ? examples/s]"
      ]
     },
     "metadata": {},
     "output_type": "display_data"
    },
    {
     "name": "stderr",
     "output_type": "stream",
     "text": [
      "100%|██████████| 293/293 [12:12<00:00,  2.50s/it]\n"
     ]
    }
   ],
   "source": [
    "# data_pandas=pd.read_json(r\"C:\\Tempor\\Reddit\\sentiment_data\\amazon\\2016_5_19.json\", lines=True)\n",
    "data_pandas_g=pd.read_json(r\"C:\\Tempor\\Reddit\\sentiment_data\\google\\2015_10_43.json\", lines=True)\n",
    "\n",
    "# data_pandas=data_pandas.rename(columns={\"body\": \"text\"})\n",
    "data_pandas_g=data_pandas_g.rename(columns={\"body\": \"text\"})\n",
    "\n",
    "# data_pandas_g\n",
    "\n",
    "# predictions=ZS_self(data_pandas)\n",
    "\n",
    "predictions_g=ZS_self(data_pandas_g)\n",
    "\n",
    "#Positive: 0, Negative: 1\n",
    "\n",
    "# len(predictions_g)\n",
    "\n",
    "# p=pd.DataFrame(predictions.tolist(), columns=['Sentiment'])\n",
    "# final_data=data_pandas.assign(Sentiment=p.values)\n",
    "# final_data.to_json(r\"C:\\Tempor\\Reddit\\sentiment_data\\amazon_a\\2016_5_19.json\")\n",
    "\n",
    "p_g=pd.DataFrame(predictions_g.tolist(), columns=['Sentiment'])\n",
    "final_data_g=data_pandas_g.assign(Sentiment=p_g.values)\n",
    "final_data_g.to_json(r\"C:\\Tempor\\Reddit\\sentiment_data\\google_a\\2015_10_43.json\")\n",
    "\n",
    "# data=pd.read_json(r\"C:\\Tempor\\Reddit\\sentiment_data\\google\\2015_4_18.json\")\n",
    "# data"
   ]
  },
  {
   "cell_type": "code",
   "execution_count": null,
   "id": "5245cd06",
   "metadata": {},
   "outputs": [],
   "source": []
  },
  {
   "cell_type": "code",
   "execution_count": null,
   "id": "2e561e9a",
   "metadata": {},
   "outputs": [],
   "source": []
  }
 ],
 "metadata": {
  "kernelspec": {
   "display_name": "Python 3 (ipykernel)",
   "language": "python",
   "name": "python3"
  },
  "language_info": {
   "codemirror_mode": {
    "name": "ipython",
    "version": 3
   },
   "file_extension": ".py",
   "mimetype": "text/x-python",
   "name": "python",
   "nbconvert_exporter": "python",
   "pygments_lexer": "ipython3",
   "version": "3.12.1"
  }
 },
 "nbformat": 4,
 "nbformat_minor": 5
}
